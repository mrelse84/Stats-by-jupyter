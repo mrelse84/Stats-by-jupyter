{
 "cells": [
  {
   "cell_type": "markdown",
   "metadata": {},
   "source": [
    "# Stats Practice3"
   ]
  },
  {
   "cell_type": "code",
   "execution_count": 1,
   "metadata": {},
   "outputs": [],
   "source": [
    "import numpy as np\n",
    "import pandas as pd\n",
    "import scipy as sp\n",
    "import scipy.stats as stats\n",
    "import sklearn as sk\n",
    "import matplotlib.pyplot as plt"
   ]
  },
  {
   "cell_type": "code",
   "execution_count": 2,
   "metadata": {},
   "outputs": [
    {
     "name": "stdout",
     "output_type": "stream",
     "text": [
      "3.7.8 (tags/v3.7.8:4b47a5b6ba, Jun 28 2020, 08:53:46) [MSC v.1916 64 bit (AMD64)]\n"
     ]
    }
   ],
   "source": [
    "import sys\n",
    "print(sys.version)"
   ]
  },
  {
   "cell_type": "markdown",
   "metadata": {},
   "source": [
    "## 통계를 배우는 목적\n",
    "1. 집단(모집단, 표본)에 대한 정량적 이해 – 분포, 대표값(점 추정, 구간 추정)\n",
    "2. 의사 결정 – 검정 (표본의 모집단내 위치에 기반), 임계값, 유의 확률\n",
    "3. 비교 – 표준값\n",
    "4. 관련성(Relation) – 상관계수(Correlation), 상관비, 연관 계수(Association)\n",
    "5. 예측 - 회귀"
   ]
  },
  {
   "cell_type": "markdown",
   "metadata": {},
   "source": [
    "### [예제 1] '비료의 종류'와 '수확량'의 관계 (<u>일원배치 분산분석</u>)\n",
    "출처 : 쿠리하라 신이치, 통계학 도감, 2019, pp. 105"
   ]
  },
  {
   "cell_type": "code",
   "execution_count": 3,
   "metadata": {},
   "outputs": [
    {
     "data": {
      "text/html": [
       "<div>\n",
       "<style scoped>\n",
       "    .dataframe tbody tr th:only-of-type {\n",
       "        vertical-align: middle;\n",
       "    }\n",
       "\n",
       "    .dataframe tbody tr th {\n",
       "        vertical-align: top;\n",
       "    }\n",
       "\n",
       "    .dataframe thead th {\n",
       "        text-align: right;\n",
       "    }\n",
       "</style>\n",
       "<table border=\"1\" class=\"dataframe\">\n",
       "  <thead>\n",
       "    <tr style=\"text-align: right;\">\n",
       "      <th></th>\n",
       "      <th>비료 없음</th>\n",
       "      <th>비료 A</th>\n",
       "      <th>비료 B</th>\n",
       "    </tr>\n",
       "  </thead>\n",
       "  <tbody>\n",
       "    <tr>\n",
       "      <th>1회</th>\n",
       "      <td>4</td>\n",
       "      <td>13</td>\n",
       "      <td>22</td>\n",
       "    </tr>\n",
       "    <tr>\n",
       "      <th>2회</th>\n",
       "      <td>6</td>\n",
       "      <td>9</td>\n",
       "      <td>18</td>\n",
       "    </tr>\n",
       "  </tbody>\n",
       "</table>\n",
       "</div>"
      ],
      "text/plain": [
       "    비료 없음  비료 A  비료 B\n",
       "1회      4    13    22\n",
       "2회      6     9    18"
      ]
     },
     "execution_count": 3,
     "metadata": {},
     "output_type": "execute_result"
    }
   ],
   "source": [
    "one_way_anova = pd.DataFrame([[4, 13, 22], [6, 9, 18]], \\\n",
    "                        index=['1회', '2회'], columns=['비료 없음', '비료 A', '비료 B'])\n",
    "one_way_anova"
   ]
  },
  {
   "cell_type": "code",
   "execution_count": 4,
   "metadata": {},
   "outputs": [],
   "source": [
    "# 표에 다음을 추가한다\n",
    "one_way_anova.loc['회수'] = one_way_anova.iloc[0:2].count(axis=0)\n",
    "one_way_anova.loc['합계'] = one_way_anova.iloc[0:2].sum(axis=0)\n",
    "one_way_anova.loc['평균'] = one_way_anova.iloc[0:2].mean(axis=0)"
   ]
  },
  {
   "cell_type": "code",
   "execution_count": 5,
   "metadata": {},
   "outputs": [
    {
     "data": {
      "text/html": [
       "<div>\n",
       "<style scoped>\n",
       "    .dataframe tbody tr th:only-of-type {\n",
       "        vertical-align: middle;\n",
       "    }\n",
       "\n",
       "    .dataframe tbody tr th {\n",
       "        vertical-align: top;\n",
       "    }\n",
       "\n",
       "    .dataframe thead th {\n",
       "        text-align: right;\n",
       "    }\n",
       "</style>\n",
       "<table border=\"1\" class=\"dataframe\">\n",
       "  <thead>\n",
       "    <tr style=\"text-align: right;\">\n",
       "      <th></th>\n",
       "      <th>비료 없음</th>\n",
       "      <th>비료 A</th>\n",
       "      <th>비료 B</th>\n",
       "    </tr>\n",
       "  </thead>\n",
       "  <tbody>\n",
       "    <tr>\n",
       "      <th>1회</th>\n",
       "      <td>4.0</td>\n",
       "      <td>13.0</td>\n",
       "      <td>22.0</td>\n",
       "    </tr>\n",
       "    <tr>\n",
       "      <th>2회</th>\n",
       "      <td>6.0</td>\n",
       "      <td>9.0</td>\n",
       "      <td>18.0</td>\n",
       "    </tr>\n",
       "    <tr>\n",
       "      <th>회수</th>\n",
       "      <td>2.0</td>\n",
       "      <td>2.0</td>\n",
       "      <td>2.0</td>\n",
       "    </tr>\n",
       "    <tr>\n",
       "      <th>합계</th>\n",
       "      <td>10.0</td>\n",
       "      <td>22.0</td>\n",
       "      <td>40.0</td>\n",
       "    </tr>\n",
       "    <tr>\n",
       "      <th>평균</th>\n",
       "      <td>5.0</td>\n",
       "      <td>11.0</td>\n",
       "      <td>20.0</td>\n",
       "    </tr>\n",
       "  </tbody>\n",
       "</table>\n",
       "</div>"
      ],
      "text/plain": [
       "    비료 없음  비료 A  비료 B\n",
       "1회    4.0  13.0  22.0\n",
       "2회    6.0   9.0  18.0\n",
       "회수    2.0   2.0   2.0\n",
       "합계   10.0  22.0  40.0\n",
       "평균    5.0  11.0  20.0"
      ]
     },
     "execution_count": 5,
     "metadata": {},
     "output_type": "execute_result"
    }
   ],
   "source": [
    "one_way_anova"
   ]
  },
  {
   "cell_type": "code",
   "execution_count": 6,
   "metadata": {},
   "outputs": [
    {
     "name": "stdout",
     "output_type": "stream",
     "text": [
      "ss_between =  228.0 , df_between =  2 , ms_between =  114.0\n"
     ]
    }
   ],
   "source": [
    "# SSB(Sum of Squares Between)를 계산한다\n",
    "sum_between = one_way_anova[one_way_anova.index=='합계'].sum(axis=1)[0]\n",
    "count_between = one_way_anova[one_way_anova.index=='회수'].sum(axis=1)[0]\n",
    "sum_between, count_between\n",
    "mean_between = sum_between / count_between\n",
    "\n",
    "cols = one_way_anova.shape[1]\n",
    "ss_between = 0\n",
    "irow_count = 2\n",
    "irow_mean = 4\n",
    "for icol in range(0, cols):\n",
    "    ss_between = ss_between + pow(one_way_anova.iat[irow_mean, icol] - mean_between, 2) * one_way_anova.iat[irow_count, icol]\n",
    "\n",
    "df_between = 3 - 1 # 수준 : 3 \n",
    "ms_between = ss_between / df_between\n",
    "\n",
    "print('ss_between = ', round(ss_between, 2), ', df_between = ', df_between, ', ms_between = ', round(ms_between, 2))"
   ]
  },
  {
   "cell_type": "code",
   "execution_count": 7,
   "metadata": {},
   "outputs": [
    {
     "name": "stdout",
     "output_type": "stream",
     "text": [
      "ss_within =  18.0 , df_within =  3 , ms_within =  6.0\n"
     ]
    }
   ],
   "source": [
    "# SSW(Sum of Squares Within)를 계산한다\n",
    "one_way_anova_ss = one_way_anova.iloc[0:2].copy() # 깊은 복사\n",
    "one_way_anova_ss = one_way_anova_ss.astype('float') # 데이터 타입 변경\n",
    "\n",
    "def calcSS(one_way_anova, one_way_anova_ss):\n",
    "    idx_col_sum = one_way_anova.shape[1]\n",
    "    idx_row_sum = one_way_anova.shape[0] - 1\n",
    "    for irow in range(0, idx_row_sum - 2):\n",
    "        for icol in range(0, idx_col_sum):\n",
    "            one_way_anova_ss.iat[irow, icol] = pow(one_way_anova.iat[irow, icol] - one_way_anova.iat[idx_row_sum, icol], 2)\n",
    "\n",
    "calcSS(one_way_anova, one_way_anova_ss)\n",
    "\n",
    "# 표에 SS 합계를 추가한다\n",
    "one_way_anova_ss.loc['SS 합계'] = one_way_anova_ss.iloc[0:2].sum(axis=0)\n",
    "        \n",
    "ss_within = one_way_anova_ss.iloc[-1:].sum(axis=1)[0]\n",
    "\n",
    "df_within = 6 - 3 # 데이터 수(6) - 수준의 수(3)\n",
    "ms_within = ss_within / df_within\n",
    "\n",
    "print('ss_within = ', round(ss_within, 2), ', df_within = ', df_within, ', ms_within = ', round(ms_within, 2))"
   ]
  },
  {
   "cell_type": "code",
   "execution_count": 8,
   "metadata": {},
   "outputs": [],
   "source": [
    "# 가설을 세운다\n",
    "# H0 : 그룹 간의 모평균에는 차아가 없다. (요인효과는 없다)  \n",
    "# H1 : 그룹 간의 모평균에는 차아가 있다. (요인효과가 있다) "
   ]
  },
  {
   "cell_type": "code",
   "execution_count": 9,
   "metadata": {},
   "outputs": [
    {
     "name": "stdout",
     "output_type": "stream",
     "text": [
      "F_0 =  19.0\n",
      "Critical Vaule =  9.55 , p-value =  0.02\n"
     ]
    }
   ],
   "source": [
    "# 검정통계량(F값)을 계산한다\n",
    "F_0 = ms_between / ms_within\n",
    "print('F_0 = ', round(F_0, 2))\n",
    "\n",
    "# 유의수준\n",
    "alpha = 0.05 \n",
    "\n",
    "# 확률변수(Random Variable)과 임계치를 구한다\n",
    "rv_f = stats.f(df_between, df_within)\n",
    "F_c = rv_f.ppf(1-alpha) # percent point function : 분포의 좌측 누적 확률을 인자로 하여 임계치(기각역)를 구한다\n",
    "\n",
    "# 유의 확률(p-value)도 구해 본다\n",
    "p_value = 1 - rv_f.cdf(F_0)\n",
    "\n",
    "print('Critical Vaule = ', round(F_c, 2), ', p-value = ', round(p_value, 2))"
   ]
  },
  {
   "cell_type": "code",
   "execution_count": 10,
   "metadata": {},
   "outputs": [
    {
     "data": {
      "text/plain": [
       "9.552094495921155"
      ]
     },
     "execution_count": 10,
     "metadata": {},
     "output_type": "execute_result"
    }
   ],
   "source": [
    "rv_f = stats.f(df_between, df_within)\n",
    "alpha = 0.05 \n",
    "rv_f.ppf(1-alpha)"
   ]
  },
  {
   "cell_type": "code",
   "execution_count": 11,
   "metadata": {},
   "outputs": [
    {
     "name": "stdout",
     "output_type": "stream",
     "text": [
      "F_c: 9.55  <=  F_0: 19.0 [H0 Rejected]\n"
     ]
    }
   ],
   "source": [
    "# F_0 기각역에 포함되면 H0를 기각한다\n",
    "# 그렇지 않으면 H0를 채택한다 (H0가 틀렸다고는 할 수 없다)\n",
    "if (F_c <= F_0):\n",
    "    print('F_c:', round(F_c,2), ' <= ', 'F_0:', round(F_0,2), '[H0 Rejected]')\n",
    "else:\n",
    "    print('F_c:', round(F_c,2), ' > ', 'F_0:', round(F_0,2), '[H0 Accepted]')"
   ]
  },
  {
   "cell_type": "code",
   "execution_count": 12,
   "metadata": {},
   "outputs": [],
   "source": [
    "# 결론 : 검정통계량(F_0)이 임계값(F_c)보다 크기 때문에 비료 효과는 있다고 할 수 있다."
   ]
  },
  {
   "cell_type": "code",
   "execution_count": null,
   "metadata": {},
   "outputs": [],
   "source": []
  },
  {
   "cell_type": "markdown",
   "metadata": {},
   "source": [
    "### [예제 2] 10명 학생의 과목별 점수 (<u>주성분분석</u>)\n",
    "출처 : 쿠리하라 신이치, 통계학 도감, 2019, pp. 217"
   ]
  },
  {
   "cell_type": "code",
   "execution_count": 13,
   "metadata": {},
   "outputs": [
    {
     "data": {
      "text/html": [
       "<div>\n",
       "<style scoped>\n",
       "    .dataframe tbody tr th:only-of-type {\n",
       "        vertical-align: middle;\n",
       "    }\n",
       "\n",
       "    .dataframe tbody tr th {\n",
       "        vertical-align: top;\n",
       "    }\n",
       "\n",
       "    .dataframe thead th {\n",
       "        text-align: right;\n",
       "    }\n",
       "</style>\n",
       "<table border=\"1\" class=\"dataframe\">\n",
       "  <thead>\n",
       "    <tr style=\"text-align: right;\">\n",
       "      <th></th>\n",
       "      <th>Korean</th>\n",
       "      <th>Mayh</th>\n",
       "      <th>English</th>\n",
       "      <th>Science</th>\n",
       "      <th>Social Studies</th>\n",
       "    </tr>\n",
       "  </thead>\n",
       "  <tbody>\n",
       "    <tr>\n",
       "      <th>0</th>\n",
       "      <td>72</td>\n",
       "      <td>65</td>\n",
       "      <td>88</td>\n",
       "      <td>56</td>\n",
       "      <td>85</td>\n",
       "    </tr>\n",
       "    <tr>\n",
       "      <th>1</th>\n",
       "      <td>65</td>\n",
       "      <td>95</td>\n",
       "      <td>80</td>\n",
       "      <td>70</td>\n",
       "      <td>80</td>\n",
       "    </tr>\n",
       "    <tr>\n",
       "      <th>2</th>\n",
       "      <td>44</td>\n",
       "      <td>40</td>\n",
       "      <td>50</td>\n",
       "      <td>38</td>\n",
       "      <td>55</td>\n",
       "    </tr>\n",
       "    <tr>\n",
       "      <th>3</th>\n",
       "      <td>29</td>\n",
       "      <td>34</td>\n",
       "      <td>43</td>\n",
       "      <td>24</td>\n",
       "      <td>45</td>\n",
       "    </tr>\n",
       "    <tr>\n",
       "      <th>4</th>\n",
       "      <td>66</td>\n",
       "      <td>29</td>\n",
       "      <td>66</td>\n",
       "      <td>37</td>\n",
       "      <td>75</td>\n",
       "    </tr>\n",
       "    <tr>\n",
       "      <th>5</th>\n",
       "      <td>51</td>\n",
       "      <td>72</td>\n",
       "      <td>43</td>\n",
       "      <td>72</td>\n",
       "      <td>65</td>\n",
       "    </tr>\n",
       "    <tr>\n",
       "      <th>6</th>\n",
       "      <td>73</td>\n",
       "      <td>38</td>\n",
       "      <td>75</td>\n",
       "      <td>40</td>\n",
       "      <td>81</td>\n",
       "    </tr>\n",
       "    <tr>\n",
       "      <th>7</th>\n",
       "      <td>50</td>\n",
       "      <td>71</td>\n",
       "      <td>52</td>\n",
       "      <td>63</td>\n",
       "      <td>60</td>\n",
       "    </tr>\n",
       "    <tr>\n",
       "      <th>8</th>\n",
       "      <td>55</td>\n",
       "      <td>65</td>\n",
       "      <td>58</td>\n",
       "      <td>50</td>\n",
       "      <td>66</td>\n",
       "    </tr>\n",
       "    <tr>\n",
       "      <th>9</th>\n",
       "      <td>42</td>\n",
       "      <td>15</td>\n",
       "      <td>46</td>\n",
       "      <td>30</td>\n",
       "      <td>50</td>\n",
       "    </tr>\n",
       "  </tbody>\n",
       "</table>\n",
       "</div>"
      ],
      "text/plain": [
       "   Korean  Mayh  English  Science  Social Studies\n",
       "0      72    65       88       56              85\n",
       "1      65    95       80       70              80\n",
       "2      44    40       50       38              55\n",
       "3      29    34       43       24              45\n",
       "4      66    29       66       37              75\n",
       "5      51    72       43       72              65\n",
       "6      73    38       75       40              81\n",
       "7      50    71       52       63              60\n",
       "8      55    65       58       50              66\n",
       "9      42    15       46       30              50"
      ]
     },
     "execution_count": 13,
     "metadata": {},
     "output_type": "execute_result"
    }
   ],
   "source": [
    "prin_comp_anal = pd.DataFrame([[72,65,88,56,85], [65,95,80,70,80], [44,40,50,38,55], \\\n",
    "                               [29,34,43,24,45], [66,29,66,37,75], [51,72,43,72,65], \\\n",
    "                               [73,38,75,40,81], [50,71,52,63,60], [55,65,58,50,66], \\\n",
    "                               [42,15,46,30,50]], \\\n",
    "                        columns=['Korean', 'Mayh', 'English', 'Science', 'Social Studies'])\n",
    "prin_comp_anal"
   ]
  },
  {
   "cell_type": "code",
   "execution_count": 14,
   "metadata": {},
   "outputs": [
    {
     "data": {
      "text/html": [
       "<div>\n",
       "<style scoped>\n",
       "    .dataframe tbody tr th:only-of-type {\n",
       "        vertical-align: middle;\n",
       "    }\n",
       "\n",
       "    .dataframe tbody tr th {\n",
       "        vertical-align: top;\n",
       "    }\n",
       "\n",
       "    .dataframe thead th {\n",
       "        text-align: right;\n",
       "    }\n",
       "</style>\n",
       "<table border=\"1\" class=\"dataframe\">\n",
       "  <thead>\n",
       "    <tr style=\"text-align: right;\">\n",
       "      <th></th>\n",
       "      <th>Korean</th>\n",
       "      <th>Mayh</th>\n",
       "      <th>English</th>\n",
       "      <th>Science</th>\n",
       "      <th>Social Studies</th>\n",
       "    </tr>\n",
       "  </thead>\n",
       "  <tbody>\n",
       "    <tr>\n",
       "      <th>0</th>\n",
       "      <td>1.275338</td>\n",
       "      <td>0.536856</td>\n",
       "      <td>1.805873</td>\n",
       "      <td>0.502162</td>\n",
       "      <td>1.434488</td>\n",
       "    </tr>\n",
       "    <tr>\n",
       "      <th>1</th>\n",
       "      <td>0.759305</td>\n",
       "      <td>1.815085</td>\n",
       "      <td>1.288060</td>\n",
       "      <td>1.380947</td>\n",
       "      <td>1.052975</td>\n",
       "    </tr>\n",
       "    <tr>\n",
       "      <th>2</th>\n",
       "      <td>-0.788793</td>\n",
       "      <td>-0.528334</td>\n",
       "      <td>-0.653739</td>\n",
       "      <td>-0.627703</td>\n",
       "      <td>-0.854588</td>\n",
       "    </tr>\n",
       "    <tr>\n",
       "      <th>3</th>\n",
       "      <td>-1.894578</td>\n",
       "      <td>-0.783980</td>\n",
       "      <td>-1.106825</td>\n",
       "      <td>-1.506487</td>\n",
       "      <td>-1.617614</td>\n",
       "    </tr>\n",
       "    <tr>\n",
       "      <th>4</th>\n",
       "      <td>0.833024</td>\n",
       "      <td>-0.997018</td>\n",
       "      <td>0.381887</td>\n",
       "      <td>-0.690473</td>\n",
       "      <td>0.671462</td>\n",
       "    </tr>\n",
       "    <tr>\n",
       "      <th>5</th>\n",
       "      <td>-0.272760</td>\n",
       "      <td>0.835109</td>\n",
       "      <td>-1.106825</td>\n",
       "      <td>1.506487</td>\n",
       "      <td>-0.091563</td>\n",
       "    </tr>\n",
       "    <tr>\n",
       "      <th>6</th>\n",
       "      <td>1.349057</td>\n",
       "      <td>-0.613550</td>\n",
       "      <td>0.964427</td>\n",
       "      <td>-0.502162</td>\n",
       "      <td>1.129278</td>\n",
       "    </tr>\n",
       "    <tr>\n",
       "      <th>7</th>\n",
       "      <td>-0.346479</td>\n",
       "      <td>0.792502</td>\n",
       "      <td>-0.524286</td>\n",
       "      <td>0.941554</td>\n",
       "      <td>-0.473076</td>\n",
       "    </tr>\n",
       "    <tr>\n",
       "      <th>8</th>\n",
       "      <td>0.022116</td>\n",
       "      <td>0.536856</td>\n",
       "      <td>-0.135926</td>\n",
       "      <td>0.125541</td>\n",
       "      <td>-0.015261</td>\n",
       "    </tr>\n",
       "    <tr>\n",
       "      <th>9</th>\n",
       "      <td>-0.936231</td>\n",
       "      <td>-1.593525</td>\n",
       "      <td>-0.912645</td>\n",
       "      <td>-1.129865</td>\n",
       "      <td>-1.236101</td>\n",
       "    </tr>\n",
       "  </tbody>\n",
       "</table>\n",
       "</div>"
      ],
      "text/plain": [
       "     Korean      Mayh   English   Science  Social Studies\n",
       "0  1.275338  0.536856  1.805873  0.502162        1.434488\n",
       "1  0.759305  1.815085  1.288060  1.380947        1.052975\n",
       "2 -0.788793 -0.528334 -0.653739 -0.627703       -0.854588\n",
       "3 -1.894578 -0.783980 -1.106825 -1.506487       -1.617614\n",
       "4  0.833024 -0.997018  0.381887 -0.690473        0.671462\n",
       "5 -0.272760  0.835109 -1.106825  1.506487       -0.091563\n",
       "6  1.349057 -0.613550  0.964427 -0.502162        1.129278\n",
       "7 -0.346479  0.792502 -0.524286  0.941554       -0.473076\n",
       "8  0.022116  0.536856 -0.135926  0.125541       -0.015261\n",
       "9 -0.936231 -1.593525 -0.912645 -1.129865       -1.236101"
      ]
     },
     "execution_count": 14,
     "metadata": {},
     "output_type": "execute_result"
    }
   ],
   "source": [
    "# 주성분 분석을 위해 먼저 데이터를 표준화한다\n",
    "\n",
    "from sklearn.preprocessing import StandardScaler # 표준화 패키지 라이브러리 \n",
    "\n",
    "# StandardScaler객체 생성\n",
    "scaler = StandardScaler()\n",
    "\n",
    "# StandardScaler 로 데이터 셋 변환 .fit( ) 과 .transform( ) 호출\n",
    "scaler.fit(prin_comp_anal)\n",
    "prin_comp_anal_scaled = scaler.transform(prin_comp_anal)\n",
    "\n",
    "# transform( )시 scale 변환된 데이터 셋이 numpy ndarry로 반환되어 이를 DataFrame으로 변환\n",
    "prin_comp_anal_scaled = pd.DataFrame(data=prin_comp_anal_scaled, columns=prin_comp_anal.columns)\n",
    "\n",
    "prin_comp_anal_scaled"
   ]
  },
  {
   "cell_type": "code",
   "execution_count": 60,
   "metadata": {},
   "outputs": [
    {
     "data": {
      "text/html": [
       "<div>\n",
       "<style scoped>\n",
       "    .dataframe tbody tr th:only-of-type {\n",
       "        vertical-align: middle;\n",
       "    }\n",
       "\n",
       "    .dataframe tbody tr th {\n",
       "        vertical-align: top;\n",
       "    }\n",
       "\n",
       "    .dataframe thead th {\n",
       "        text-align: right;\n",
       "    }\n",
       "</style>\n",
       "<table border=\"1\" class=\"dataframe\">\n",
       "  <thead>\n",
       "    <tr style=\"text-align: right;\">\n",
       "      <th></th>\n",
       "      <th>Comp1</th>\n",
       "      <th>Comp2</th>\n",
       "      <th>Comp3</th>\n",
       "      <th>Comp4</th>\n",
       "      <th>Comp5</th>\n",
       "    </tr>\n",
       "  </thead>\n",
       "  <tbody>\n",
       "    <tr>\n",
       "      <th>0</th>\n",
       "      <td>-2.589952</td>\n",
       "      <td>-0.780563</td>\n",
       "      <td>-0.348921</td>\n",
       "      <td>0.200187</td>\n",
       "      <td>-0.082757</td>\n",
       "    </tr>\n",
       "    <tr>\n",
       "      <th>1</th>\n",
       "      <td>-2.708026</td>\n",
       "      <td>0.949713</td>\n",
       "      <td>-0.556514</td>\n",
       "      <td>0.029007</td>\n",
       "      <td>-0.005893</td>\n",
       "    </tr>\n",
       "    <tr>\n",
       "      <th>2</th>\n",
       "      <td>1.562072</td>\n",
       "      <td>0.003862</td>\n",
       "      <td>-0.107089</td>\n",
       "      <td>0.014934</td>\n",
       "      <td>0.035528</td>\n",
       "    </tr>\n",
       "    <tr>\n",
       "      <th>3</th>\n",
       "      <td>3.131953</td>\n",
       "      <td>0.031782</td>\n",
       "      <td>-0.689062</td>\n",
       "      <td>-0.131451</td>\n",
       "      <td>-0.114282</td>\n",
       "    </tr>\n",
       "    <tr>\n",
       "      <th>4</th>\n",
       "      <td>-0.297717</td>\n",
       "      <td>-1.573170</td>\n",
       "      <td>0.434086</td>\n",
       "      <td>-0.088459</td>\n",
       "      <td>-0.040894</td>\n",
       "    </tr>\n",
       "    <tr>\n",
       "      <th>5</th>\n",
       "      <td>-0.184206</td>\n",
       "      <td>1.899103</td>\n",
       "      <td>0.782164</td>\n",
       "      <td>-0.035038</td>\n",
       "      <td>-0.145680</td>\n",
       "    </tr>\n",
       "    <tr>\n",
       "      <th>6</th>\n",
       "      <td>-1.269681</td>\n",
       "      <td>-1.715993</td>\n",
       "      <td>0.280403</td>\n",
       "      <td>-0.128725</td>\n",
       "      <td>0.045093</td>\n",
       "    </tr>\n",
       "    <tr>\n",
       "      <th>7</th>\n",
       "      <td>0.005827</td>\n",
       "      <td>1.445271</td>\n",
       "      <td>0.102402</td>\n",
       "      <td>0.110566</td>\n",
       "      <td>0.147493</td>\n",
       "    </tr>\n",
       "    <tr>\n",
       "      <th>8</th>\n",
       "      <td>-0.186346</td>\n",
       "      <td>0.441400</td>\n",
       "      <td>-0.104084</td>\n",
       "      <td>-0.262646</td>\n",
       "      <td>0.117462</td>\n",
       "    </tr>\n",
       "    <tr>\n",
       "      <th>9</th>\n",
       "      <td>2.536076</td>\n",
       "      <td>-0.701404</td>\n",
       "      <td>0.206615</td>\n",
       "      <td>0.291624</td>\n",
       "      <td>0.043930</td>\n",
       "    </tr>\n",
       "  </tbody>\n",
       "</table>\n",
       "</div>"
      ],
      "text/plain": [
       "      Comp1     Comp2     Comp3     Comp4     Comp5\n",
       "0 -2.589952 -0.780563 -0.348921  0.200187 -0.082757\n",
       "1 -2.708026  0.949713 -0.556514  0.029007 -0.005893\n",
       "2  1.562072  0.003862 -0.107089  0.014934  0.035528\n",
       "3  3.131953  0.031782 -0.689062 -0.131451 -0.114282\n",
       "4 -0.297717 -1.573170  0.434086 -0.088459 -0.040894\n",
       "5 -0.184206  1.899103  0.782164 -0.035038 -0.145680\n",
       "6 -1.269681 -1.715993  0.280403 -0.128725  0.045093\n",
       "7  0.005827  1.445271  0.102402  0.110566  0.147493\n",
       "8 -0.186346  0.441400 -0.104084 -0.262646  0.117462\n",
       "9  2.536076 -0.701404  0.206615  0.291624  0.043930"
      ]
     },
     "execution_count": 60,
     "metadata": {},
     "output_type": "execute_result"
    }
   ],
   "source": [
    "from sklearn.decomposition import PCA\n",
    "pca = PCA(n_components=5) # 주성분을 몇개로 할지 결정\n",
    "printcipalComponents = pca.fit_transform(prin_comp_anal_scaled)\n",
    "pca_df = pd.DataFrame(data=printcipalComponents, columns = ['Comp1', 'Comp2', 'Comp3', 'Comp4', 'Comp5']) # 주성분으로 이루어진 데이터 프레임 구성\n",
    "pca_df"
   ]
  },
  {
   "cell_type": "code",
   "execution_count": 61,
   "metadata": {},
   "outputs": [
    {
     "name": "stdout",
     "output_type": "stream",
     "text": [
      "Std of Principal Comps =  [1.85719032 1.15386121 0.43134381 0.15820671 0.09144166]\n",
      "기여율 of Principal Comps =  [0.68983118 0.26627914 0.0372115  0.00500587 0.00167232]\n"
     ]
    }
   ],
   "source": [
    "# 주성분의 표준편차, 분산, 기여율 계산\n",
    "pca_std = pca_df.std(ddof=0) # ddof=0 : 모표준편차\n",
    "\n",
    "pca_std = pca_std.values # Series to np.array\n",
    "\n",
    "pca_variance = pow(pca_std, 2) # 주성분의 분산 (이것은 고유값과 같다)\n",
    "\n",
    "variance_ratio = pca_variance / 5 # # 설명변수의 총 개수 : 5\n",
    "# 기여율은 pca.explained_variance_ratio_ 로 구할 수도 있다.\n",
    "\n",
    "print('Std of Principal Comps = ', pca_std)\n",
    "print('기여율 of Principal Comps = ', variance_ratio)"
   ]
  },
  {
   "cell_type": "code",
   "execution_count": 91,
   "metadata": {},
   "outputs": [
    {
     "name": "stdout",
     "output_type": "stream",
     "text": [
      "eigenvalue : [3.83239543 1.47932855 0.20673053 0.0278104  0.00929064]\n",
      "eigenvector :\n",
      " [[-0.48754806 -0.37113797 -0.4661872  -0.37854667 -0.51373671]\n",
      " [-0.32412603  0.59975708 -0.3574677   0.59237462 -0.23778753]\n",
      " [ 0.43949561 -0.4602128  -0.6298468   0.4026948   0.19020434]\n",
      " [-0.16116201 -0.49896945  0.50757614  0.57456001 -0.37054494]\n",
      " [ 0.6618985   0.20440576  0.02336256 -0.11624292 -0.71137222]]\n"
     ]
    }
   ],
   "source": [
    "# 고유값과 고유벡터 (주성분부하량, Loading)\n",
    "eigenvalue = pca.explained_variance_\n",
    "eigenvector = pca.components_\n",
    "print('eigenvalue :', eigenvalue)\n",
    "print('eigenvector :\\n', eigenvector)"
   ]
  },
  {
   "cell_type": "code",
   "execution_count": 92,
   "metadata": {},
   "outputs": [
    {
     "name": "stdout",
     "output_type": "stream",
     "text": [
      "eigenvalue : [3.83239543 1.47932855 0.20673053 0.00929064 0.0278104 ]\n",
      "eigenvector :\n",
      " [[-0.48754806 -0.32412603  0.43949561 -0.6618985   0.16116201]\n",
      " [-0.37113797  0.59975708 -0.4602128  -0.20440576  0.49896945]\n",
      " [-0.4661872  -0.3574677  -0.6298468  -0.02336256 -0.50757614]\n",
      " [-0.37854667  0.59237462  0.4026948   0.11624292 -0.57456001]\n",
      " [-0.51373671 -0.23778753  0.19020434  0.71137222  0.37054494]]\n"
     ]
    }
   ],
   "source": [
    "# 고유값과 고유벡터 (주성분부하량, Loading) - 2\n",
    "# 다른 방법 (공분산행렬과 고유값분해)\n",
    "prin_comp_anal_scaled_cov = np.dot(prin_comp_anal_scaled.values.T,prin_comp_anal_scaled.values)/9\n",
    "\n",
    "w, v = np.linalg.eig(prin_comp_anal_scaled_cov)\n",
    "\n",
    "print('eigenvalue :', w)\n",
    "print('eigenvector :\\n', v)"
   ]
  },
  {
   "cell_type": "code",
   "execution_count": 93,
   "metadata": {},
   "outputs": [],
   "source": [
    "# 방법에 따라 결과값이 약간 다르다 .."
   ]
  },
  {
   "cell_type": "code",
   "execution_count": null,
   "metadata": {},
   "outputs": [],
   "source": []
  },
  {
   "cell_type": "markdown",
   "metadata": {},
   "source": [
    "### [예제 3] Iris 데이터의 (<u>주성분분석</u>)\n",
    "출처 : PCA(주성분 분석)_Python(파이썬) 코드 포함 (딥상어동)  \n",
    "https://m.blog.naver.com/tjdrud1323/221720259834"
   ]
  },
  {
   "cell_type": "code",
   "execution_count": 46,
   "metadata": {},
   "outputs": [
    {
     "data": {
      "text/html": [
       "<div>\n",
       "<style scoped>\n",
       "    .dataframe tbody tr th:only-of-type {\n",
       "        vertical-align: middle;\n",
       "    }\n",
       "\n",
       "    .dataframe tbody tr th {\n",
       "        vertical-align: top;\n",
       "    }\n",
       "\n",
       "    .dataframe thead th {\n",
       "        text-align: right;\n",
       "    }\n",
       "</style>\n",
       "<table border=\"1\" class=\"dataframe\">\n",
       "  <thead>\n",
       "    <tr style=\"text-align: right;\">\n",
       "      <th></th>\n",
       "      <th>sepal length</th>\n",
       "      <th>sepal width</th>\n",
       "      <th>petal length</th>\n",
       "      <th>petal width</th>\n",
       "      <th>target</th>\n",
       "    </tr>\n",
       "  </thead>\n",
       "  <tbody>\n",
       "    <tr>\n",
       "      <th>0</th>\n",
       "      <td>5.1</td>\n",
       "      <td>3.5</td>\n",
       "      <td>1.4</td>\n",
       "      <td>0.2</td>\n",
       "      <td>Iris-setosa</td>\n",
       "    </tr>\n",
       "    <tr>\n",
       "      <th>1</th>\n",
       "      <td>4.9</td>\n",
       "      <td>3.0</td>\n",
       "      <td>1.4</td>\n",
       "      <td>0.2</td>\n",
       "      <td>Iris-setosa</td>\n",
       "    </tr>\n",
       "    <tr>\n",
       "      <th>2</th>\n",
       "      <td>4.7</td>\n",
       "      <td>3.2</td>\n",
       "      <td>1.3</td>\n",
       "      <td>0.2</td>\n",
       "      <td>Iris-setosa</td>\n",
       "    </tr>\n",
       "    <tr>\n",
       "      <th>3</th>\n",
       "      <td>4.6</td>\n",
       "      <td>3.1</td>\n",
       "      <td>1.5</td>\n",
       "      <td>0.2</td>\n",
       "      <td>Iris-setosa</td>\n",
       "    </tr>\n",
       "    <tr>\n",
       "      <th>4</th>\n",
       "      <td>5.0</td>\n",
       "      <td>3.6</td>\n",
       "      <td>1.4</td>\n",
       "      <td>0.2</td>\n",
       "      <td>Iris-setosa</td>\n",
       "    </tr>\n",
       "  </tbody>\n",
       "</table>\n",
       "</div>"
      ],
      "text/plain": [
       "   sepal length  sepal width  petal length  petal width       target\n",
       "0           5.1          3.5           1.4          0.2  Iris-setosa\n",
       "1           4.9          3.0           1.4          0.2  Iris-setosa\n",
       "2           4.7          3.2           1.3          0.2  Iris-setosa\n",
       "3           4.6          3.1           1.5          0.2  Iris-setosa\n",
       "4           5.0          3.6           1.4          0.2  Iris-setosa"
      ]
     },
     "execution_count": 46,
     "metadata": {},
     "output_type": "execute_result"
    }
   ],
   "source": [
    "# Iris 데이터\n",
    "iris_url = \"https://archive.ics.uci.edu/ml/machine-learning-databases/iris/iris.data\"\n",
    "iris_df = pd.read_csv(iris_url, names=['sepal length','sepal width','petal length','petal width','target'])\n",
    "iris_df.head()"
   ]
  },
  {
   "cell_type": "code",
   "execution_count": 47,
   "metadata": {},
   "outputs": [
    {
     "data": {
      "text/html": [
       "<div>\n",
       "<style scoped>\n",
       "    .dataframe tbody tr th:only-of-type {\n",
       "        vertical-align: middle;\n",
       "    }\n",
       "\n",
       "    .dataframe tbody tr th {\n",
       "        vertical-align: top;\n",
       "    }\n",
       "\n",
       "    .dataframe thead th {\n",
       "        text-align: right;\n",
       "    }\n",
       "</style>\n",
       "<table border=\"1\" class=\"dataframe\">\n",
       "  <thead>\n",
       "    <tr style=\"text-align: right;\">\n",
       "      <th></th>\n",
       "      <th>sepal length</th>\n",
       "      <th>sepal width</th>\n",
       "      <th>petal length</th>\n",
       "      <th>petal width</th>\n",
       "    </tr>\n",
       "  </thead>\n",
       "  <tbody>\n",
       "    <tr>\n",
       "      <th>0</th>\n",
       "      <td>-0.900681</td>\n",
       "      <td>1.032057</td>\n",
       "      <td>-1.341272</td>\n",
       "      <td>-1.312977</td>\n",
       "    </tr>\n",
       "    <tr>\n",
       "      <th>1</th>\n",
       "      <td>-1.143017</td>\n",
       "      <td>-0.124958</td>\n",
       "      <td>-1.341272</td>\n",
       "      <td>-1.312977</td>\n",
       "    </tr>\n",
       "    <tr>\n",
       "      <th>2</th>\n",
       "      <td>-1.385353</td>\n",
       "      <td>0.337848</td>\n",
       "      <td>-1.398138</td>\n",
       "      <td>-1.312977</td>\n",
       "    </tr>\n",
       "    <tr>\n",
       "      <th>3</th>\n",
       "      <td>-1.506521</td>\n",
       "      <td>0.106445</td>\n",
       "      <td>-1.284407</td>\n",
       "      <td>-1.312977</td>\n",
       "    </tr>\n",
       "    <tr>\n",
       "      <th>4</th>\n",
       "      <td>-1.021849</td>\n",
       "      <td>1.263460</td>\n",
       "      <td>-1.341272</td>\n",
       "      <td>-1.312977</td>\n",
       "    </tr>\n",
       "  </tbody>\n",
       "</table>\n",
       "</div>"
      ],
      "text/plain": [
       "   sepal length  sepal width  petal length  petal width\n",
       "0     -0.900681     1.032057     -1.341272    -1.312977\n",
       "1     -1.143017    -0.124958     -1.341272    -1.312977\n",
       "2     -1.385353     0.337848     -1.398138    -1.312977\n",
       "3     -1.506521     0.106445     -1.284407    -1.312977\n",
       "4     -1.021849     1.263460     -1.341272    -1.312977"
      ]
     },
     "execution_count": 47,
     "metadata": {},
     "output_type": "execute_result"
    }
   ],
   "source": [
    "# 주성분 분석을 위해 먼저 데이터를 표준화한다\n",
    "\n",
    "#from sklearn.preprocessing import StandardScaler  # 표준화 패키지 라이브러리 \n",
    "x = iris_df.drop(['target'], axis=1).values # 독립변인들의 value값만 추출\n",
    "y = iris_df['target'].values # 종속변인 추출\n",
    "\n",
    "x = StandardScaler().fit_transform(x) # x객체에 x를 표준화한 데이터를 저장\n",
    "\n",
    "features = ['sepal length', 'sepal width', 'petal length', 'petal width']\n",
    "x_df = pd.DataFrame(x, columns=features)\n",
    "x_df.head()"
   ]
  },
  {
   "cell_type": "code",
   "execution_count": 48,
   "metadata": {},
   "outputs": [
    {
     "data": {
      "text/html": [
       "<div>\n",
       "<style scoped>\n",
       "    .dataframe tbody tr th:only-of-type {\n",
       "        vertical-align: middle;\n",
       "    }\n",
       "\n",
       "    .dataframe tbody tr th {\n",
       "        vertical-align: top;\n",
       "    }\n",
       "\n",
       "    .dataframe thead th {\n",
       "        text-align: right;\n",
       "    }\n",
       "</style>\n",
       "<table border=\"1\" class=\"dataframe\">\n",
       "  <thead>\n",
       "    <tr style=\"text-align: right;\">\n",
       "      <th></th>\n",
       "      <th>principal component1</th>\n",
       "      <th>principal component2</th>\n",
       "    </tr>\n",
       "  </thead>\n",
       "  <tbody>\n",
       "    <tr>\n",
       "      <th>0</th>\n",
       "      <td>-2.264542</td>\n",
       "      <td>0.505704</td>\n",
       "    </tr>\n",
       "    <tr>\n",
       "      <th>1</th>\n",
       "      <td>-2.086426</td>\n",
       "      <td>-0.655405</td>\n",
       "    </tr>\n",
       "    <tr>\n",
       "      <th>2</th>\n",
       "      <td>-2.367950</td>\n",
       "      <td>-0.318477</td>\n",
       "    </tr>\n",
       "    <tr>\n",
       "      <th>3</th>\n",
       "      <td>-2.304197</td>\n",
       "      <td>-0.575368</td>\n",
       "    </tr>\n",
       "    <tr>\n",
       "      <th>4</th>\n",
       "      <td>-2.388777</td>\n",
       "      <td>0.674767</td>\n",
       "    </tr>\n",
       "    <tr>\n",
       "      <th>...</th>\n",
       "      <td>...</td>\n",
       "      <td>...</td>\n",
       "    </tr>\n",
       "    <tr>\n",
       "      <th>145</th>\n",
       "      <td>1.870522</td>\n",
       "      <td>0.382822</td>\n",
       "    </tr>\n",
       "    <tr>\n",
       "      <th>146</th>\n",
       "      <td>1.558492</td>\n",
       "      <td>-0.905314</td>\n",
       "    </tr>\n",
       "    <tr>\n",
       "      <th>147</th>\n",
       "      <td>1.520845</td>\n",
       "      <td>0.266795</td>\n",
       "    </tr>\n",
       "    <tr>\n",
       "      <th>148</th>\n",
       "      <td>1.376391</td>\n",
       "      <td>1.016362</td>\n",
       "    </tr>\n",
       "    <tr>\n",
       "      <th>149</th>\n",
       "      <td>0.959299</td>\n",
       "      <td>-0.022284</td>\n",
       "    </tr>\n",
       "  </tbody>\n",
       "</table>\n",
       "<p>150 rows × 2 columns</p>\n",
       "</div>"
      ],
      "text/plain": [
       "     principal component1  principal component2\n",
       "0               -2.264542              0.505704\n",
       "1               -2.086426             -0.655405\n",
       "2               -2.367950             -0.318477\n",
       "3               -2.304197             -0.575368\n",
       "4               -2.388777              0.674767\n",
       "..                    ...                   ...\n",
       "145              1.870522              0.382822\n",
       "146              1.558492             -0.905314\n",
       "147              1.520845              0.266795\n",
       "148              1.376391              1.016362\n",
       "149              0.959299             -0.022284\n",
       "\n",
       "[150 rows x 2 columns]"
      ]
     },
     "execution_count": 48,
     "metadata": {},
     "output_type": "execute_result"
    }
   ],
   "source": [
    "from sklearn.decomposition import PCA\n",
    "pca = PCA(n_components=2) # 주성분을 몇개로 할지 결정\n",
    "printcipalComponents = pca.fit_transform(x)\n",
    "pca_df = pd.DataFrame(data=printcipalComponents, columns = ['principal component1', 'principal component2']) # 주성분으로 이루어진 데이터 프레임 구성\n",
    "pca_df"
   ]
  },
  {
   "cell_type": "code",
   "execution_count": 49,
   "metadata": {},
   "outputs": [
    {
     "data": {
      "text/plain": [
       "array([0.72770452, 0.23030523])"
      ]
     },
     "execution_count": 49,
     "metadata": {},
     "output_type": "execute_result"
    }
   ],
   "source": [
    "pca.explained_variance_ratio_"
   ]
  },
  {
   "cell_type": "code",
   "execution_count": 51,
   "metadata": {},
   "outputs": [
    {
     "name": "stdout",
     "output_type": "stream",
     "text": [
      "Std of Principal Comps =  [1.70611198 0.95980255]\n",
      "기여율 of Principal Comps =  [0.72770452 0.23030523]\n"
     ]
    }
   ],
   "source": [
    "# 주성분의 표준편차, 분산, 기여율 계산\n",
    "pca_std = pca_df.std(ddof=0) # ddof=0 : 모표준편차\n",
    "\n",
    "pca_std = pca_std.values # Series to np.array\n",
    "\n",
    "pca_variance = pow(pca_std, 2) # 주성분의 분산 (이것은 고유값과 같다)\n",
    "\n",
    "variance_ratio = pca_variance / 4 # 설명변수의 총 개수 : 4\n",
    "# 기여율은 pca.explained_variance_ratio_ 로 구할 수도 있다.\n",
    "\n",
    "print('Std of Principal Comps = ', pca_std)\n",
    "print('기여율 of Principal Comps = ', variance_ratio)"
   ]
  },
  {
   "cell_type": "code",
   "execution_count": null,
   "metadata": {},
   "outputs": [],
   "source": []
  },
  {
   "cell_type": "markdown",
   "metadata": {},
   "source": [
    "### [예제 4] 유방 엑스선 검사가 양성일 때 실제 유방암일 확률 (<u>베이즈 통계학-사후확률</u>)\n",
    "출처 : 쿠리하라 신이치, 통계학 도감, 2019, pp. 254"
   ]
  },
  {
   "cell_type": "markdown",
   "metadata": {},
   "source": [
    "#### 베이즈 정리\n",
    "P(B|A) = P(A|B) ∙ P(B) / P(A) "
   ]
  },
  {
   "cell_type": "code",
   "execution_count": 95,
   "metadata": {},
   "outputs": [],
   "source": [
    "P_B = 0.4 / 100 # 사전확률 P(A) : 0.4%\n",
    "P_A_B = 80 / 100 # 우도 P(A|B) : 80%\n",
    "P_A = 0.32 /100 + 9.96 / 100 # 진양성 0.32%, 위양성 9.96% (전체 양성 : 10.28%)"
   ]
  },
  {
   "cell_type": "code",
   "execution_count": 97,
   "metadata": {},
   "outputs": [
    {
     "name": "stdout",
     "output_type": "stream",
     "text": [
      "사후확률 =  3.11  [%]\n"
     ]
    }
   ],
   "source": [
    "P_B_A = P_A_B * P_B / P_A\n",
    "print('사후확률 = ', round(P_B_A*100, 2), ' [%]')"
   ]
  },
  {
   "cell_type": "code",
   "execution_count": null,
   "metadata": {},
   "outputs": [],
   "source": []
  }
 ],
 "metadata": {
  "kernelspec": {
   "display_name": "Python 3 (ipykernel)",
   "language": "python",
   "name": "python3"
  },
  "language_info": {
   "codemirror_mode": {
    "name": "ipython",
    "version": 3
   },
   "file_extension": ".py",
   "mimetype": "text/x-python",
   "name": "python",
   "nbconvert_exporter": "python",
   "pygments_lexer": "ipython3",
   "version": "3.7.8"
  }
 },
 "nbformat": 4,
 "nbformat_minor": 4
}
