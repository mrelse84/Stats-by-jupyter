{
 "cells": [
  {
   "cell_type": "markdown",
   "metadata": {},
   "source": [
    "# Chi-squared test"
   ]
  },
  {
   "cell_type": "code",
   "execution_count": 1,
   "metadata": {},
   "outputs": [],
   "source": [
    "import numpy as np\n",
    "import pandas as pd\n",
    "import scipy as sp\n",
    "import scipy.stats as stats\n",
    "import sklearn as sk\n",
    "import matplotlib.pyplot as plt"
   ]
  },
  {
   "cell_type": "code",
   "execution_count": 2,
   "metadata": {},
   "outputs": [
    {
     "name": "stdout",
     "output_type": "stream",
     "text": [
      "3.7.8 (tags/v3.7.8:4b47a5b6ba, Jun 28 2020, 08:53:46) [MSC v.1916 64 bit (AMD64)]\n"
     ]
    }
   ],
   "source": [
    "import sys\n",
    "print(sys.version)"
   ]
  },
  {
   "cell_type": "markdown",
   "metadata": {},
   "source": [
    "## Chi-squared test\n",
    "1. 적합도 검정 (Goodness of fit) - 하나의 범주형 변수에 대해 기대하는 어떤 분포를 따르는지 여부를 검정\n",
    "2. 독립성 검정 (Test of independence) - 한 모집단의 두 개의 범주형 변수가 서로 연관되어 있는지 여부를 검정\n",
    "3. 동질성 검정 (Test of homogeneity) - 두 모집단의 한 개의 범주형 변수가 서로 분포나 비율이 같은지 여부를 검정"
   ]
  },
  {
   "cell_type": "markdown",
   "metadata": {},
   "source": [
    "### [예제 1] 어느 공정의 불량율을 유의 수준 5%로 <u>적합도 검정</u> 하시오\n",
    "출처 : (블로그) 적합도 검정  \n",
    "https://m.blog.naver.com/PostView.naver?isHttpsRedirect=true&blogId=lchry&logNo=220511965537  \n",
    "원출처 : 염경철, 염경철 원장의 품질경영기사, 영지문화사"
   ]
  },
  {
   "cell_type": "markdown",
   "metadata": {},
   "source": [
    "어느 공정의 불량율이 15%이다. 시료를 80개를 추출하여 검사한 결과 불량이 16개이다. 유의 수준 5%로 적합도 검정을 하시오."
   ]
  },
  {
   "cell_type": "markdown",
   "metadata": {},
   "source": [
    "가설  \n",
    "H0 : 불량율 = 15%  \n",
    "H1 : 시료의 검사 결과가 불량율 15%를 따르지 않는다"
   ]
  },
  {
   "cell_type": "code",
   "execution_count": 3,
   "metadata": {},
   "outputs": [
    {
     "data": {
      "text/html": [
       "<div>\n",
       "<style scoped>\n",
       "    .dataframe tbody tr th:only-of-type {\n",
       "        vertical-align: middle;\n",
       "    }\n",
       "\n",
       "    .dataframe tbody tr th {\n",
       "        vertical-align: top;\n",
       "    }\n",
       "\n",
       "    .dataframe thead th {\n",
       "        text-align: right;\n",
       "    }\n",
       "</style>\n",
       "<table border=\"1\" class=\"dataframe\">\n",
       "  <thead>\n",
       "    <tr style=\"text-align: right;\">\n",
       "      <th></th>\n",
       "      <th>OK</th>\n",
       "      <th>NG</th>\n",
       "      <th>Sum</th>\n",
       "    </tr>\n",
       "  </thead>\n",
       "  <tbody>\n",
       "    <tr>\n",
       "      <th>Measured</th>\n",
       "      <td>64</td>\n",
       "      <td>16</td>\n",
       "      <td>80</td>\n",
       "    </tr>\n",
       "  </tbody>\n",
       "</table>\n",
       "</div>"
      ],
      "text/plain": [
       "          OK  NG  Sum\n",
       "Measured  64  16   80"
      ]
     },
     "execution_count": 3,
     "metadata": {},
     "output_type": "execute_result"
    }
   ],
   "source": [
    "result_dict = { 'OK': 64, 'NG': 16 }\n",
    "crosstab = pd.DataFrame(result_dict, index = ['Measured'])\n",
    "# 표(교차 집계표)에 합계를 추가한다\n",
    "crosstab['Sum'] = crosstab.sum(axis=1)\n",
    "crosstab"
   ]
  },
  {
   "cell_type": "code",
   "execution_count": 4,
   "metadata": {},
   "outputs": [
    {
     "data": {
      "text/html": [
       "<div>\n",
       "<style scoped>\n",
       "    .dataframe tbody tr th:only-of-type {\n",
       "        vertical-align: middle;\n",
       "    }\n",
       "\n",
       "    .dataframe tbody tr th {\n",
       "        vertical-align: top;\n",
       "    }\n",
       "\n",
       "    .dataframe thead th {\n",
       "        text-align: right;\n",
       "    }\n",
       "</style>\n",
       "<table border=\"1\" class=\"dataframe\">\n",
       "  <thead>\n",
       "    <tr style=\"text-align: right;\">\n",
       "      <th></th>\n",
       "      <th>OK</th>\n",
       "      <th>NG</th>\n",
       "      <th>Sum</th>\n",
       "    </tr>\n",
       "  </thead>\n",
       "  <tbody>\n",
       "    <tr>\n",
       "      <th>Expected</th>\n",
       "      <td>68.0</td>\n",
       "      <td>12.0</td>\n",
       "      <td>80.0</td>\n",
       "    </tr>\n",
       "  </tbody>\n",
       "</table>\n",
       "</div>"
      ],
      "text/plain": [
       "            OK    NG   Sum\n",
       "Expected  68.0  12.0  80.0"
      ]
     },
     "execution_count": 4,
     "metadata": {},
     "output_type": "execute_result"
    }
   ],
   "source": [
    "defect_rate = 0.15 # 기존 불량율 : 15%\n",
    "expected_ok = crosstab.iat[0, 2] * (1 - defect_rate)\n",
    "expected_ng = crosstab.iat[0, 2] * defect_rate\n",
    "expected_sum = expected_ok + expected_ng\n",
    "expected_dict = { 'OK': expected_ok, 'NG': expected_ng, 'Sum': expected_sum }\n",
    "crosstab_temp = pd.DataFrame(expected_dict, index = ['Expected'])\n",
    "crosstab_temp"
   ]
  },
  {
   "cell_type": "code",
   "execution_count": 5,
   "metadata": {},
   "outputs": [
    {
     "data": {
      "text/html": [
       "<div>\n",
       "<style scoped>\n",
       "    .dataframe tbody tr th:only-of-type {\n",
       "        vertical-align: middle;\n",
       "    }\n",
       "\n",
       "    .dataframe tbody tr th {\n",
       "        vertical-align: top;\n",
       "    }\n",
       "\n",
       "    .dataframe thead th {\n",
       "        text-align: right;\n",
       "    }\n",
       "</style>\n",
       "<table border=\"1\" class=\"dataframe\">\n",
       "  <thead>\n",
       "    <tr style=\"text-align: right;\">\n",
       "      <th></th>\n",
       "      <th>OK</th>\n",
       "      <th>NG</th>\n",
       "      <th>Sum</th>\n",
       "    </tr>\n",
       "  </thead>\n",
       "  <tbody>\n",
       "    <tr>\n",
       "      <th>Measured</th>\n",
       "      <td>64.0</td>\n",
       "      <td>16.0</td>\n",
       "      <td>80.0</td>\n",
       "    </tr>\n",
       "    <tr>\n",
       "      <th>Expected</th>\n",
       "      <td>68.0</td>\n",
       "      <td>12.0</td>\n",
       "      <td>80.0</td>\n",
       "    </tr>\n",
       "  </tbody>\n",
       "</table>\n",
       "</div>"
      ],
      "text/plain": [
       "            OK    NG   Sum\n",
       "Measured  64.0  16.0  80.0\n",
       "Expected  68.0  12.0  80.0"
      ]
     },
     "execution_count": 5,
     "metadata": {},
     "output_type": "execute_result"
    }
   ],
   "source": [
    "crosstab = pd.concat([crosstab, crosstab_temp])\n",
    "crosstab"
   ]
  },
  {
   "cell_type": "code",
   "execution_count": 6,
   "metadata": {},
   "outputs": [
    {
     "name": "stdout",
     "output_type": "stream",
     "text": [
      "Critical Vaule =  3.84 , p-value =  0.21\n"
     ]
    }
   ],
   "source": [
    "# chi^2를 계산한다\n",
    "# chi^2 = (관측도수-기대도수)^2/기대도수\n",
    "chisq_0 = pow(crosstab.iat[0, 0] - crosstab.iat[1, 0], 2) / crosstab.iat[1, 0] + \\\n",
    "            pow(crosstab.iat[0, 1] - crosstab.iat[1, 1], 2) / crosstab.iat[1, 1]\n",
    "\n",
    "# 유의수준\n",
    "alpha = 0.05 \n",
    "\n",
    "# 확률변수(Random Variable)과 임계치를 구한다\n",
    "rv_chi2 = stats.chi2(1) # 카이제곱분포의 자유도 = 1\n",
    "chisq_c = rv_chi2.ppf(1-alpha) # chi2.ppf (percent point function) : 분포의 좌측 누적 확률을 인자로 하여 임계치(기각역)를 구한다\n",
    "\n",
    "# 유의 확률(p-value)도 구해 본다\n",
    "p_value = 1 - rv_chi2.cdf(chisq_0)\n",
    "\n",
    "print('Critical Vaule = ', round(chisq_c, 2), ', p-value = ', round(p_value, 2))"
   ]
  },
  {
   "cell_type": "code",
   "execution_count": 7,
   "metadata": {},
   "outputs": [
    {
     "name": "stdout",
     "output_type": "stream",
     "text": [
      "chisq_c: 3.84  >  chisq_0: 1.57 [H0 Accepted]\n"
     ]
    }
   ],
   "source": [
    "# chisq_0가 기각역에 포함되면 H0를 기각한다\n",
    "# 그렇지 않으면 H0를 채택한다 (H0가 틀렸다고는 할 수 없다)\n",
    "if (chisq_c <= chisq_0):\n",
    "    print('chisq_c:', round(chisq_c,2), ' <= ', 'chisq_0:', round(chisq_0,2), '[H0 Rejected]')\n",
    "else:\n",
    "    print('chisq_c:', round(chisq_c,2), ' > ', 'chisq_0:', round(chisq_0,2), '[H0 Accepted]')"
   ]
  },
  {
   "cell_type": "code",
   "execution_count": 8,
   "metadata": {},
   "outputs": [],
   "source": [
    "# 결론 : H0를 채택한다 (H0가 틀렸다고는 할 수 없다)"
   ]
  },
  {
   "cell_type": "code",
   "execution_count": null,
   "metadata": {},
   "outputs": [],
   "source": []
  },
  {
   "cell_type": "code",
   "execution_count": null,
   "metadata": {},
   "outputs": [],
   "source": []
  }
 ],
 "metadata": {
  "kernelspec": {
   "display_name": "Python 3 (ipykernel)",
   "language": "python",
   "name": "python3"
  },
  "language_info": {
   "codemirror_mode": {
    "name": "ipython",
    "version": 3
   },
   "file_extension": ".py",
   "mimetype": "text/x-python",
   "name": "python",
   "nbconvert_exporter": "python",
   "pygments_lexer": "ipython3",
   "version": "3.7.8"
  }
 },
 "nbformat": 4,
 "nbformat_minor": 4
}
