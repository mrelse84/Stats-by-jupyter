{
 "cells": [
  {
   "cell_type": "markdown",
   "metadata": {},
   "source": [
    "# Stats Practice2"
   ]
  },
  {
   "cell_type": "code",
   "execution_count": 1,
   "metadata": {},
   "outputs": [],
   "source": [
    "import numpy as np\n",
    "import pandas as pd\n",
    "import scipy as sp\n",
    "import scipy.stats as stats\n",
    "import sklearn as sk\n",
    "import matplotlib.pyplot as plt"
   ]
  },
  {
   "cell_type": "code",
   "execution_count": 2,
   "metadata": {},
   "outputs": [
    {
     "name": "stdout",
     "output_type": "stream",
     "text": [
      "3.7.8 (tags/v3.7.8:4b47a5b6ba, Jun 28 2020, 08:53:46) [MSC v.1916 64 bit (AMD64)]\n"
     ]
    }
   ],
   "source": [
    "import sys\n",
    "print(sys.version)"
   ]
  },
  {
   "cell_type": "markdown",
   "metadata": {},
   "source": [
    "## 통계를 배우는 목적\n",
    "1. 집단(모집단, 표본)에 대한 정량적 이해 – 분포, 대표값(점 추정, 구간 추정)\n",
    "2. 의사 결정 – 검정 (표본의 모집단내 위치에 기반), 임계값, 유의 확률\n",
    "3. 비교 – 표준값\n",
    "4. 관련성(Relation) – 상관계수(Correlation), 상관비, 연관 계수(Association)\n",
    "5. 예측 - 회귀"
   ]
  },
  {
   "cell_type": "markdown",
   "metadata": {},
   "source": [
    "### [예제 1] '성별'과 '고백 방법'의 <u>연관계수</u>\n",
    "고등학생 300명에게 '이성에게 어떤 방법으로 고백을 받고 싶은지' 조사하였다.  \n",
    "출처 : Shin Takahashi, 만화로 쉽게 배우는 통계학, 2012, pp. 127-133"
   ]
  },
  {
   "cell_type": "code",
   "execution_count": 3,
   "metadata": {},
   "outputs": [
    {
     "data": {
      "text/html": [
       "<div>\n",
       "<style scoped>\n",
       "    .dataframe tbody tr th:only-of-type {\n",
       "        vertical-align: middle;\n",
       "    }\n",
       "\n",
       "    .dataframe tbody tr th {\n",
       "        vertical-align: top;\n",
       "    }\n",
       "\n",
       "    .dataframe thead th {\n",
       "        text-align: right;\n",
       "    }\n",
       "</style>\n",
       "<table border=\"1\" class=\"dataframe\">\n",
       "  <thead>\n",
       "    <tr style=\"text-align: right;\">\n",
       "      <th></th>\n",
       "      <th>전화로</th>\n",
       "      <th>메일로</th>\n",
       "      <th>직접 만나서</th>\n",
       "    </tr>\n",
       "  </thead>\n",
       "  <tbody>\n",
       "    <tr>\n",
       "      <th>여</th>\n",
       "      <td>34</td>\n",
       "      <td>61</td>\n",
       "      <td>53</td>\n",
       "    </tr>\n",
       "    <tr>\n",
       "      <th>남</th>\n",
       "      <td>38</td>\n",
       "      <td>40</td>\n",
       "      <td>74</td>\n",
       "    </tr>\n",
       "  </tbody>\n",
       "</table>\n",
       "</div>"
      ],
      "text/plain": [
       "   전화로  메일로  직접 만나서\n",
       "여   34   61      53\n",
       "남   38   40      74"
      ]
     },
     "execution_count": 3,
     "metadata": {},
     "output_type": "execute_result"
    }
   ],
   "source": [
    "crosstab = pd.DataFrame([[34, 61, 53], [38, 40, 74]], \\\n",
    "                        index=['여', '남'], columns=['전화로', '메일로', '직접 만나서'])\n",
    "crosstab"
   ]
  },
  {
   "cell_type": "code",
   "execution_count": 4,
   "metadata": {},
   "outputs": [],
   "source": [
    "# 가설을 세운다\n",
    "# H0 : 두 변수는 관계사 없다. (연관 계수 = 0)  \n",
    "# H1 : 두 변수는 관계가 있다. (연관 계수 >0, 단측 검정)\n",
    "\n",
    "# 독립성 검정 통계량 chi^2를 구한다\n",
    "# chi^2 = sum((관측도수-기대도수)^2/기대도수)\n",
    "\n",
    "# 표(교차 집계표)에 연령대 합계와 정당 합계를 추가한다\n",
    "crosstab['성별 합계'] = crosstab.sum(axis=1)\n",
    "crosstab.loc['고백 방법 합계'] = crosstab.sum(axis=0)"
   ]
  },
  {
   "cell_type": "code",
   "execution_count": 5,
   "metadata": {},
   "outputs": [
    {
     "data": {
      "text/html": [
       "<div>\n",
       "<style scoped>\n",
       "    .dataframe tbody tr th:only-of-type {\n",
       "        vertical-align: middle;\n",
       "    }\n",
       "\n",
       "    .dataframe tbody tr th {\n",
       "        vertical-align: top;\n",
       "    }\n",
       "\n",
       "    .dataframe thead th {\n",
       "        text-align: right;\n",
       "    }\n",
       "</style>\n",
       "<table border=\"1\" class=\"dataframe\">\n",
       "  <thead>\n",
       "    <tr style=\"text-align: right;\">\n",
       "      <th></th>\n",
       "      <th>전화로</th>\n",
       "      <th>메일로</th>\n",
       "      <th>직접 만나서</th>\n",
       "      <th>성별 합계</th>\n",
       "    </tr>\n",
       "  </thead>\n",
       "  <tbody>\n",
       "    <tr>\n",
       "      <th>여</th>\n",
       "      <td>34</td>\n",
       "      <td>61</td>\n",
       "      <td>53</td>\n",
       "      <td>148</td>\n",
       "    </tr>\n",
       "    <tr>\n",
       "      <th>남</th>\n",
       "      <td>38</td>\n",
       "      <td>40</td>\n",
       "      <td>74</td>\n",
       "      <td>152</td>\n",
       "    </tr>\n",
       "    <tr>\n",
       "      <th>고백 방법 합계</th>\n",
       "      <td>72</td>\n",
       "      <td>101</td>\n",
       "      <td>127</td>\n",
       "      <td>300</td>\n",
       "    </tr>\n",
       "  </tbody>\n",
       "</table>\n",
       "</div>"
      ],
      "text/plain": [
       "          전화로  메일로  직접 만나서  성별 합계\n",
       "여          34   61      53    148\n",
       "남          38   40      74    152\n",
       "고백 방법 합계   72  101     127    300"
      ]
     },
     "execution_count": 5,
     "metadata": {},
     "output_type": "execute_result"
    }
   ],
   "source": [
    "crosstab"
   ]
  },
  {
   "cell_type": "code",
   "execution_count": 6,
   "metadata": {
    "scrolled": true
   },
   "outputs": [
    {
     "data": {
      "text/html": [
       "<div>\n",
       "<style scoped>\n",
       "    .dataframe tbody tr th:only-of-type {\n",
       "        vertical-align: middle;\n",
       "    }\n",
       "\n",
       "    .dataframe tbody tr th {\n",
       "        vertical-align: top;\n",
       "    }\n",
       "\n",
       "    .dataframe thead th {\n",
       "        text-align: right;\n",
       "    }\n",
       "</style>\n",
       "<table border=\"1\" class=\"dataframe\">\n",
       "  <thead>\n",
       "    <tr style=\"text-align: right;\">\n",
       "      <th></th>\n",
       "      <th>전화로</th>\n",
       "      <th>메일로</th>\n",
       "      <th>직접 만나서</th>\n",
       "      <th>성별 합계</th>\n",
       "    </tr>\n",
       "  </thead>\n",
       "  <tbody>\n",
       "    <tr>\n",
       "      <th>여</th>\n",
       "      <td>35.52</td>\n",
       "      <td>49.826667</td>\n",
       "      <td>62.653333</td>\n",
       "      <td>148</td>\n",
       "    </tr>\n",
       "    <tr>\n",
       "      <th>남</th>\n",
       "      <td>36.48</td>\n",
       "      <td>51.173333</td>\n",
       "      <td>64.346667</td>\n",
       "      <td>152</td>\n",
       "    </tr>\n",
       "    <tr>\n",
       "      <th>고백 방법 합계</th>\n",
       "      <td>72.00</td>\n",
       "      <td>101.000000</td>\n",
       "      <td>127.000000</td>\n",
       "      <td>300</td>\n",
       "    </tr>\n",
       "  </tbody>\n",
       "</table>\n",
       "</div>"
      ],
      "text/plain": [
       "            전화로         메일로      직접 만나서  성별 합계\n",
       "여         35.52   49.826667   62.653333    148\n",
       "남         36.48   51.173333   64.346667    152\n",
       "고백 방법 합계  72.00  101.000000  127.000000    300"
      ]
     },
     "execution_count": 6,
     "metadata": {},
     "output_type": "execute_result"
    }
   ],
   "source": [
    "# 기대도수를 계산한다\n",
    "exp_tab = crosstab.copy() # 깊은 복사\n",
    "#exp_tab = exp_tab.astype('float') # 데이터 타입 변경\n",
    "\n",
    "def calcExpFreq(crosstab, exp_tab):\n",
    "    idx_col_sum = crosstab.shape[1] - 1\n",
    "    idx_row_sum = crosstab.shape[0] - 1\n",
    "    for irow in range(0, idx_row_sum):\n",
    "        for icol in range(0, idx_col_sum):\n",
    "            exp_tab.iat[irow, icol] = crosstab.iat[irow, idx_col_sum] * crosstab.iat[idx_row_sum, icol] \\\n",
    "                                        / crosstab.iat[idx_row_sum, idx_col_sum]\n",
    "\n",
    "calcExpFreq(crosstab, exp_tab)\n",
    "\n",
    "exp_tab"
   ]
  },
  {
   "cell_type": "code",
   "execution_count": 9,
   "metadata": {},
   "outputs": [
    {
     "data": {
      "text/html": [
       "<div>\n",
       "<style scoped>\n",
       "    .dataframe tbody tr th:only-of-type {\n",
       "        vertical-align: middle;\n",
       "    }\n",
       "\n",
       "    .dataframe tbody tr th {\n",
       "        vertical-align: top;\n",
       "    }\n",
       "\n",
       "    .dataframe thead th {\n",
       "        text-align: right;\n",
       "    }\n",
       "</style>\n",
       "<table border=\"1\" class=\"dataframe\">\n",
       "  <thead>\n",
       "    <tr style=\"text-align: right;\">\n",
       "      <th></th>\n",
       "      <th>전화로</th>\n",
       "      <th>메일로</th>\n",
       "      <th>직접 만나서</th>\n",
       "      <th>성별 합계</th>\n",
       "    </tr>\n",
       "  </thead>\n",
       "  <tbody>\n",
       "    <tr>\n",
       "      <th>여</th>\n",
       "      <td>0.065045</td>\n",
       "      <td>2.505553</td>\n",
       "      <td>1.487341</td>\n",
       "      <td>4.057939</td>\n",
       "    </tr>\n",
       "    <tr>\n",
       "      <th>남</th>\n",
       "      <td>0.063333</td>\n",
       "      <td>2.439618</td>\n",
       "      <td>1.448200</td>\n",
       "      <td>3.951151</td>\n",
       "    </tr>\n",
       "    <tr>\n",
       "      <th>고백 방법 합계</th>\n",
       "      <td>0.128378</td>\n",
       "      <td>4.945171</td>\n",
       "      <td>2.935541</td>\n",
       "      <td>8.009090</td>\n",
       "    </tr>\n",
       "  </tbody>\n",
       "</table>\n",
       "</div>"
      ],
      "text/plain": [
       "               전화로       메일로    직접 만나서     성별 합계\n",
       "여         0.065045  2.505553  1.487341  4.057939\n",
       "남         0.063333  2.439618  1.448200  3.951151\n",
       "고백 방법 합계  0.128378  4.945171  2.935541  8.009090"
      ]
     },
     "execution_count": 9,
     "metadata": {},
     "output_type": "execute_result"
    }
   ],
   "source": [
    "# chi^2를 계산한다\n",
    "# chi^2 = (관측도수-기대도수)^2/기대도수\n",
    "chisq_tab = exp_tab.copy() # 깊은 복사\n",
    "\n",
    "idx_col_sum = crosstab.shape[1] - 1\n",
    "idx_row_sum = crosstab.shape[0] - 1\n",
    "def calcChiSq(crosstab, exp_tab, chisq_tab):\n",
    "    for irow in range(0, idx_row_sum):\n",
    "        for icol in range(0, idx_col_sum):\n",
    "            chisq_tab.iat[irow, icol] = (crosstab.iat[irow, icol] - exp_tab.iat[irow, icol])**2 \\\n",
    "                                        / exp_tab.iat[irow, icol]\n",
    "\n",
    "calcChiSq(crosstab, exp_tab, chisq_tab)\n",
    "\n",
    "# 표(교차 집계표)에 연령대 합계와 정당 합계를 다시 계산한다\n",
    "chisq_tab['성별 합계'] = chisq_tab[['전화로', '메일로', '직접 만나서']].sum(axis=1)\n",
    "chisq_tab.loc['고백 방법 합계'] = chisq_tab.iloc[0:idx_row_sum,:].sum(axis=0)\n",
    "\n",
    "chisq_tab"
   ]
  },
  {
   "cell_type": "code",
   "execution_count": 11,
   "metadata": {},
   "outputs": [
    {
     "name": "stdout",
     "output_type": "stream",
     "text": [
      "Critical Vaule =  5.991464547107979 , p-value =  0.01823258041007003\n"
     ]
    }
   ],
   "source": [
    "chisq_0 = chisq_tab.iat[idx_row_sum, idx_col_sum]\n",
    "\n",
    "# 유의수준\n",
    "alpha = 0.05 \n",
    "\n",
    "# 확률변수(Random Variable)과 임계치를 구한다\n",
    "rv_chi2 = stats.chi2(2) # 카이제곱분포의 자유도 = (행-1)*(열-1)\n",
    "chisq_c = rv_chi2.ppf(1-alpha) # chi2.ppf (percent point function) : 분포의 좌측 누적 확률을 인자로 하여 임계치(기각역)를 구한다\n",
    "\n",
    "# 유의 확률(p-value)도 구해 본다\n",
    "p_value = 1 - rv_chi2.cdf(chisq_0)\n",
    "\n",
    "print('Critical Vaule = ', chisq_c, ', p-value = ', p_value)"
   ]
  },
  {
   "cell_type": "code",
   "execution_count": 62,
   "metadata": {},
   "outputs": [
    {
     "name": "stdout",
     "output_type": "stream",
     "text": [
      "chisq_c: 5.99  <=  chisq_0: 8.01 [H0 Rejected]\n"
     ]
    }
   ],
   "source": [
    "# chisq_0가 기각역에 포함되면 H0를 기각한다\n",
    "# 그렇지 않으면 H0를 채택한다 (H0가 틀렸다고는 할 수 없다)\n",
    "if (chisq_c <= chisq_0):\n",
    "    print('chisq_c:', round(chisq_c,2), ' <= ', 'chisq_0:', round(chisq_0,2), '[H0 Rejected]')\n",
    "else:\n",
    "    print('chisq_c:', round(chisq_c,2), ' > ', 'chisq_0:', round(chisq_0,2), '[H0 Accepted]')"
   ]
  },
  {
   "cell_type": "code",
   "execution_count": 63,
   "metadata": {},
   "outputs": [
    {
     "data": {
      "text/plain": [
       "0.16"
      ]
     },
     "execution_count": 63,
     "metadata": {},
     "output_type": "execute_result"
    }
   ],
   "source": [
    "# 결론 : 두 변수는 관계가 있다.\n",
    "\n",
    "# 연관 계수를 구해 보자\n",
    "# 연관 계수 V = sqrt(chisq_0^2 / N*min(행-1,열-1))\n",
    "round(np.sqrt(chisq_0 / (300*1)),2)"
   ]
  },
  {
   "cell_type": "code",
   "execution_count": 65,
   "metadata": {},
   "outputs": [],
   "source": [
    "# 독립성 검정 결과는 '두 변수가 관계가 있다'로 나왔는데 .. \n",
    "# 연관 계수는 0.16로 '매우 약하게 관련되어 있다(즉 관련이 없다)'로 나타나서\n",
    "# 좀 의아한 생각이 든다 .."
   ]
  },
  {
   "cell_type": "code",
   "execution_count": null,
   "metadata": {},
   "outputs": [],
   "source": []
  },
  {
   "cell_type": "markdown",
   "metadata": {},
   "source": [
    "### [예제 2] 패밀리 레스토랑의 '식사'와 '디저트'의 <u>연관계수</u>\n",
    "패밀리 레스토랑에서 '20세 이상의 성인' 250명에게 조사하였다.  \n",
    "출처 : Shin Takahashi, 만화로 쉽게 배우는 통계학, 2012, pp. 138-141"
   ]
  },
  {
   "cell_type": "code",
   "execution_count": 73,
   "metadata": {},
   "outputs": [
    {
     "data": {
      "text/html": [
       "<div>\n",
       "<style scoped>\n",
       "    .dataframe tbody tr th:only-of-type {\n",
       "        vertical-align: middle;\n",
       "    }\n",
       "\n",
       "    .dataframe tbody tr th {\n",
       "        vertical-align: top;\n",
       "    }\n",
       "\n",
       "    .dataframe thead th {\n",
       "        text-align: right;\n",
       "    }\n",
       "</style>\n",
       "<table border=\"1\" class=\"dataframe\">\n",
       "  <thead>\n",
       "    <tr style=\"text-align: right;\">\n",
       "      <th></th>\n",
       "      <th>커피</th>\n",
       "      <th>홍차</th>\n",
       "    </tr>\n",
       "  </thead>\n",
       "  <tbody>\n",
       "    <tr>\n",
       "      <th>일식</th>\n",
       "      <td>43</td>\n",
       "      <td>33</td>\n",
       "    </tr>\n",
       "    <tr>\n",
       "      <th>양식</th>\n",
       "      <td>51</td>\n",
       "      <td>53</td>\n",
       "    </tr>\n",
       "    <tr>\n",
       "      <th>중식</th>\n",
       "      <td>29</td>\n",
       "      <td>41</td>\n",
       "    </tr>\n",
       "  </tbody>\n",
       "</table>\n",
       "</div>"
      ],
      "text/plain": [
       "    커피  홍차\n",
       "일식  43  33\n",
       "양식  51  53\n",
       "중식  29  41"
      ]
     },
     "execution_count": 73,
     "metadata": {},
     "output_type": "execute_result"
    }
   ],
   "source": [
    "crosstab = pd.DataFrame([[43, 33], [51, 53], [29, 41]], \\\n",
    "                        index=['일식', '양식', '중식'], columns=['커피', '홍차'])\n",
    "crosstab"
   ]
  },
  {
   "cell_type": "code",
   "execution_count": 74,
   "metadata": {},
   "outputs": [],
   "source": [
    "# 가설을 세운다\n",
    "# H0 : 두 변수는 관계사 없다. (연관 계수 = 0)  \n",
    "# H1 : 두 변수는 관계가 있다. (연관 계수 >0, 단측 검정)\n",
    "\n",
    "# 독립성 검정 통계량 chi^2를 구한다\n",
    "# chi^2 = sum((관측도수-기대도수)^2/기대도수)\n",
    "\n",
    "# 표(교차 집계표)에 연령대 합계와 정당 합계를 추가한다\n",
    "crosstab['식사 합계'] = crosstab.sum(axis=1)\n",
    "crosstab.loc['디저트 합계'] = crosstab.sum(axis=0)"
   ]
  },
  {
   "cell_type": "code",
   "execution_count": 75,
   "metadata": {},
   "outputs": [
    {
     "data": {
      "text/html": [
       "<div>\n",
       "<style scoped>\n",
       "    .dataframe tbody tr th:only-of-type {\n",
       "        vertical-align: middle;\n",
       "    }\n",
       "\n",
       "    .dataframe tbody tr th {\n",
       "        vertical-align: top;\n",
       "    }\n",
       "\n",
       "    .dataframe thead th {\n",
       "        text-align: right;\n",
       "    }\n",
       "</style>\n",
       "<table border=\"1\" class=\"dataframe\">\n",
       "  <thead>\n",
       "    <tr style=\"text-align: right;\">\n",
       "      <th></th>\n",
       "      <th>커피</th>\n",
       "      <th>홍차</th>\n",
       "      <th>식사 합계</th>\n",
       "    </tr>\n",
       "  </thead>\n",
       "  <tbody>\n",
       "    <tr>\n",
       "      <th>일식</th>\n",
       "      <td>43</td>\n",
       "      <td>33</td>\n",
       "      <td>76</td>\n",
       "    </tr>\n",
       "    <tr>\n",
       "      <th>양식</th>\n",
       "      <td>51</td>\n",
       "      <td>53</td>\n",
       "      <td>104</td>\n",
       "    </tr>\n",
       "    <tr>\n",
       "      <th>중식</th>\n",
       "      <td>29</td>\n",
       "      <td>41</td>\n",
       "      <td>70</td>\n",
       "    </tr>\n",
       "    <tr>\n",
       "      <th>디저트 합계</th>\n",
       "      <td>123</td>\n",
       "      <td>127</td>\n",
       "      <td>250</td>\n",
       "    </tr>\n",
       "  </tbody>\n",
       "</table>\n",
       "</div>"
      ],
      "text/plain": [
       "         커피   홍차  식사 합계\n",
       "일식       43   33     76\n",
       "양식       51   53    104\n",
       "중식       29   41     70\n",
       "디저트 합계  123  127    250"
      ]
     },
     "execution_count": 75,
     "metadata": {},
     "output_type": "execute_result"
    }
   ],
   "source": [
    "crosstab"
   ]
  },
  {
   "cell_type": "code",
   "execution_count": 76,
   "metadata": {
    "scrolled": true
   },
   "outputs": [
    {
     "data": {
      "text/html": [
       "<div>\n",
       "<style scoped>\n",
       "    .dataframe tbody tr th:only-of-type {\n",
       "        vertical-align: middle;\n",
       "    }\n",
       "\n",
       "    .dataframe tbody tr th {\n",
       "        vertical-align: top;\n",
       "    }\n",
       "\n",
       "    .dataframe thead th {\n",
       "        text-align: right;\n",
       "    }\n",
       "</style>\n",
       "<table border=\"1\" class=\"dataframe\">\n",
       "  <thead>\n",
       "    <tr style=\"text-align: right;\">\n",
       "      <th></th>\n",
       "      <th>커피</th>\n",
       "      <th>홍차</th>\n",
       "      <th>식사 합계</th>\n",
       "    </tr>\n",
       "  </thead>\n",
       "  <tbody>\n",
       "    <tr>\n",
       "      <th>일식</th>\n",
       "      <td>37.392</td>\n",
       "      <td>38.608</td>\n",
       "      <td>76</td>\n",
       "    </tr>\n",
       "    <tr>\n",
       "      <th>양식</th>\n",
       "      <td>51.168</td>\n",
       "      <td>52.832</td>\n",
       "      <td>104</td>\n",
       "    </tr>\n",
       "    <tr>\n",
       "      <th>중식</th>\n",
       "      <td>34.440</td>\n",
       "      <td>35.560</td>\n",
       "      <td>70</td>\n",
       "    </tr>\n",
       "    <tr>\n",
       "      <th>디저트 합계</th>\n",
       "      <td>123.000</td>\n",
       "      <td>127.000</td>\n",
       "      <td>250</td>\n",
       "    </tr>\n",
       "  </tbody>\n",
       "</table>\n",
       "</div>"
      ],
      "text/plain": [
       "             커피       홍차  식사 합계\n",
       "일식       37.392   38.608     76\n",
       "양식       51.168   52.832    104\n",
       "중식       34.440   35.560     70\n",
       "디저트 합계  123.000  127.000    250"
      ]
     },
     "execution_count": 76,
     "metadata": {},
     "output_type": "execute_result"
    }
   ],
   "source": [
    "# 기대도수를 계산한다\n",
    "exp_tab = crosstab.copy() # 깊은 복사\n",
    "#exp_tab = exp_tab.astype('float') # 데이터 타입 변경\n",
    "\n",
    "def calcExpFreq(crosstab, exp_tab):\n",
    "    idx_col_sum = crosstab.shape[1] - 1\n",
    "    idx_row_sum = crosstab.shape[0] - 1\n",
    "    for irow in range(0, idx_row_sum):\n",
    "        for icol in range(0, idx_col_sum):\n",
    "            exp_tab.iat[irow, icol] = crosstab.iat[irow, idx_col_sum] * crosstab.iat[idx_row_sum, icol] \\\n",
    "                                        / crosstab.iat[idx_row_sum, idx_col_sum]\n",
    "\n",
    "calcExpFreq(crosstab, exp_tab)\n",
    "\n",
    "exp_tab"
   ]
  },
  {
   "cell_type": "code",
   "execution_count": 77,
   "metadata": {},
   "outputs": [
    {
     "data": {
      "text/html": [
       "<div>\n",
       "<style scoped>\n",
       "    .dataframe tbody tr th:only-of-type {\n",
       "        vertical-align: middle;\n",
       "    }\n",
       "\n",
       "    .dataframe tbody tr th {\n",
       "        vertical-align: top;\n",
       "    }\n",
       "\n",
       "    .dataframe thead th {\n",
       "        text-align: right;\n",
       "    }\n",
       "</style>\n",
       "<table border=\"1\" class=\"dataframe\">\n",
       "  <thead>\n",
       "    <tr style=\"text-align: right;\">\n",
       "      <th></th>\n",
       "      <th>커피</th>\n",
       "      <th>홍차</th>\n",
       "      <th>식사 합계</th>\n",
       "    </tr>\n",
       "  </thead>\n",
       "  <tbody>\n",
       "    <tr>\n",
       "      <th>일식</th>\n",
       "      <td>0.841080</td>\n",
       "      <td>0.814589</td>\n",
       "      <td>1.655669</td>\n",
       "    </tr>\n",
       "    <tr>\n",
       "      <th>양식</th>\n",
       "      <td>0.000552</td>\n",
       "      <td>0.000534</td>\n",
       "      <td>0.001086</td>\n",
       "    </tr>\n",
       "    <tr>\n",
       "      <th>중식</th>\n",
       "      <td>0.859280</td>\n",
       "      <td>0.832216</td>\n",
       "      <td>1.691496</td>\n",
       "    </tr>\n",
       "    <tr>\n",
       "      <th>디저트 합계</th>\n",
       "      <td>1.700912</td>\n",
       "      <td>1.647340</td>\n",
       "      <td>3.348251</td>\n",
       "    </tr>\n",
       "  </tbody>\n",
       "</table>\n",
       "</div>"
      ],
      "text/plain": [
       "              커피        홍차     식사 합계\n",
       "일식      0.841080  0.814589  1.655669\n",
       "양식      0.000552  0.000534  0.001086\n",
       "중식      0.859280  0.832216  1.691496\n",
       "디저트 합계  1.700912  1.647340  3.348251"
      ]
     },
     "execution_count": 77,
     "metadata": {},
     "output_type": "execute_result"
    }
   ],
   "source": [
    "# chi^2를 계산한다\n",
    "# chi^2 = (관측도수-기대도수)^2/기대도수\n",
    "chisq_tab = exp_tab.copy() # 깊은 복사\n",
    "\n",
    "idx_col_sum = crosstab.shape[1] - 1\n",
    "idx_row_sum = crosstab.shape[0] - 1\n",
    "def calcChiSq(crosstab, exp_tab, chisq_tab):\n",
    "    for irow in range(0, idx_row_sum):\n",
    "        for icol in range(0, idx_col_sum):\n",
    "            chisq_tab.iat[irow, icol] = (crosstab.iat[irow, icol] - exp_tab.iat[irow, icol])**2 \\\n",
    "                                        / exp_tab.iat[irow, icol]\n",
    "\n",
    "calcChiSq(crosstab, exp_tab, chisq_tab)\n",
    "\n",
    "# 표(교차 집계표)에 연령대 합계와 정당 합계를 다시 계산한다\n",
    "chisq_tab['식사 합계'] = chisq_tab[['커피', '홍차']].sum(axis=1)\n",
    "chisq_tab.loc['디저트 합계'] = chisq_tab.iloc[0:idx_row_sum,:].sum(axis=0)\n",
    "\n",
    "chisq_tab"
   ]
  },
  {
   "cell_type": "code",
   "execution_count": 78,
   "metadata": {},
   "outputs": [
    {
     "data": {
      "text/plain": [
       "5.991464547107979"
      ]
     },
     "execution_count": 78,
     "metadata": {},
     "output_type": "execute_result"
    }
   ],
   "source": [
    "chisq_0 = chisq_tab.iat[idx_row_sum, idx_col_sum]\n",
    "\n",
    "# 유의수준\n",
    "alpha = 0.05 \n",
    "\n",
    "# 확률변수(Random Variable)과 임계치를 구한다\n",
    "rv_chi2 = stats.chi2(2) # 카이제곱분포의 자유도 = (행-1)*(열-1)\n",
    "chisq_c = rv_chi2.ppf(1-alpha) # chi2.ppf (percent point function) : 분포의 좌측 누적 확률을 인자로 하여 임계치(기각역)를 구한다\n",
    "\n",
    "chisq_c"
   ]
  },
  {
   "cell_type": "code",
   "execution_count": 79,
   "metadata": {},
   "outputs": [
    {
     "name": "stdout",
     "output_type": "stream",
     "text": [
      "chisq_c: 5.99  >  chisq_0: 3.35 [H0 Accepted]\n"
     ]
    }
   ],
   "source": [
    "# chisq_0가 기각역에 포함되면 H0를 기각한다\n",
    "# 그렇지 않으면 H0를 채택한다 (H0가 틀렸다고는 할 수 없다)\n",
    "if (chisq_c <= chisq_0):\n",
    "    print('chisq_c:', round(chisq_c,2), ' <= ', 'chisq_0:', round(chisq_0,2), '[H0 Rejected]')\n",
    "else:\n",
    "    print('chisq_c:', round(chisq_c,2), ' > ', 'chisq_0:', round(chisq_0,2), '[H0 Accepted]')"
   ]
  },
  {
   "cell_type": "code",
   "execution_count": 80,
   "metadata": {},
   "outputs": [
    {
     "data": {
      "text/plain": [
       "0.11"
      ]
     },
     "execution_count": 80,
     "metadata": {},
     "output_type": "execute_result"
    }
   ],
   "source": [
    "# 결론 : 두 변수는 관계가 없다.\n",
    "\n",
    "# 연관 계수를 구해 보자\n",
    "# 연관 계수 V = sqrt(chisq_0^2 / N*min(행-1,열-1))\n",
    "round(np.sqrt(chisq_0 / (300*1)),2)"
   ]
  },
  {
   "cell_type": "code",
   "execution_count": 65,
   "metadata": {},
   "outputs": [],
   "source": [
    "# 이 예제에서는 독립성 검정 결과도 '두 변수가 관계가 없다'로 나오고\n",
    "# 연관 계수도 0.11로 '매우 약하게 관련되어 있다(즉 관련이 없다)'로 나타나서\n",
    "# 두 가지가 일치하고 있다"
   ]
  }
 ],
 "metadata": {
  "kernelspec": {
   "display_name": "Python 3 (ipykernel)",
   "language": "python",
   "name": "python3"
  },
  "language_info": {
   "codemirror_mode": {
    "name": "ipython",
    "version": 3
   },
   "file_extension": ".py",
   "mimetype": "text/x-python",
   "name": "python",
   "nbconvert_exporter": "python",
   "pygments_lexer": "ipython3",
   "version": "3.7.8"
  }
 },
 "nbformat": 4,
 "nbformat_minor": 4
}
