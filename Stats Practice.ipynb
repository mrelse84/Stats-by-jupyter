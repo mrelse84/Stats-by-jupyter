{
 "cells": [
  {
   "cell_type": "markdown",
   "metadata": {},
   "source": [
    "# Stats Practice"
   ]
  },
  {
   "cell_type": "code",
   "execution_count": 1,
   "metadata": {},
   "outputs": [],
   "source": [
    "import numpy as np\n",
    "import pandas as pd\n",
    "import scipy as sp\n",
    "import scipy.stats as stats\n",
    "import sklearn as sk\n",
    "import matplotlib.pyplot as plt"
   ]
  },
  {
   "cell_type": "code",
   "execution_count": 2,
   "metadata": {},
   "outputs": [
    {
     "name": "stdout",
     "output_type": "stream",
     "text": [
      "3.7.7 (tags/v3.7.7:d7c567b08f, Mar 10 2020, 10:41:24) [MSC v.1900 64 bit (AMD64)]\n"
     ]
    }
   ],
   "source": [
    "import sys\n",
    "print(sys.version)"
   ]
  },
  {
   "cell_type": "code",
   "execution_count": null,
   "metadata": {},
   "outputs": [],
   "source": []
  },
  {
   "cell_type": "markdown",
   "metadata": {},
   "source": [
    "### [예제 1] 지지율 여론 조사\n",
    "선거 후보에 대해 지지율 조사를 하였다.  \n",
    "조사 샘플 수는 1,000명이었고, A 후보 507명, B 후보 298명, 기타 195명이었다.  \n",
    "두 후보의 지지율에 대해 95% 신뢰 구간을 추정하시오."
   ]
  },
  {
   "cell_type": "markdown",
   "metadata": {},
   "source": [
    "[참고 - 용어]\n",
    "* 유의수준 : $\\alpha$\n",
    "* 신뢰수준 : $(1-\\alpha)100\\%$\n",
    "* 표준편차 : $\\sigma$\n",
    "* 표준오차 : $\\sigma\\sqrt{n}$\n",
    "* 표본오차 (허용오차, 오차범위) : $z\\cdot\\sigma\\sqrt{n}$"
   ]
  },
  {
   "cell_type": "code",
   "execution_count": 9,
   "metadata": {},
   "outputs": [
    {
     "name": "stdout",
     "output_type": "stream",
     "text": [
      "0.48  <= p_hat_A <=  0.54 [ 51.0 +/- 3.0 ]\n",
      "0.27  <= p_hat_B <=  0.33 [ 30.0 +/- 3.0 ]\n"
     ]
    }
   ],
   "source": [
    "# 지지율 데이터\n",
    "n_A = 507\n",
    "n_B = 298\n",
    "n_X = 195\n",
    "n_Tot = n_A + n_B + n_X\n",
    "\n",
    "# 유의수준\n",
    "alpha = 0.05 \n",
    "\n",
    "# 표본비율 (Sampling Ratio) : p_hat = x/n\n",
    "p_hat_A = n_A / n_Tot \n",
    "p_hat_B = n_B / n_Tot\n",
    "\n",
    "# 확률변수(Random Variable)과 z값 (z-value, z-score)\n",
    "rv_norm = stats.norm(0,1) # 표준 정규분포(Z=norm(0,1)) 사용\n",
    "z_val = rv_norm.ppf(1-alpha/2)\n",
    "\n",
    "# 한 모집단에서 여러 개의 모비율을 추정할 때, 동일한 최대허용 표본오차를 적용한다. (표본오차는 p_hat이 0.5일 때 최대가 된다.)\n",
    "err_max = z_val*np.sqrt(0.5*0.5/n_Tot)\n",
    "\n",
    "p_hat_A_l = p_hat_A - err_max\n",
    "p_hat_A_r = p_hat_A + err_max\n",
    "print(round(p_hat_A_l,2), ' <= p_hat_A <= ', round(p_hat_A_r,2), '[', round(p_hat_A*100,0), '+/-', round(err_max*100,0), ']')\n",
    "\n",
    "p_hat_B_l = p_hat_B - err_max\n",
    "p_hat_B_r = p_hat_B + err_max\n",
    "print(round(p_hat_B_l,2), ' <= p_hat_B <= ', round(p_hat_B_r,2), '[', round(p_hat_B*100,0), '+/-', round(err_max*100,0), ']')"
   ]
  },
  {
   "cell_type": "code",
   "execution_count": null,
   "metadata": {},
   "outputs": [],
   "source": []
  },
  {
   "cell_type": "markdown",
   "metadata": {},
   "source": [
    "### [예제 2] 연령대별 지지 정당\n",
    "1,000명을 샘플 조사하여 연령대별 지지 정당에 대하여 다음의 표를 만들었다.  \n",
    "두 변수(연령대와 지지 정당)가 관계가 있는지 독립성 검정을 하시오."
   ]
  },
  {
   "cell_type": "code",
   "execution_count": 165,
   "metadata": {},
   "outputs": [
    {
     "data": {
      "text/html": [
       "<div>\n",
       "<style scoped>\n",
       "    .dataframe tbody tr th:only-of-type {\n",
       "        vertical-align: middle;\n",
       "    }\n",
       "\n",
       "    .dataframe tbody tr th {\n",
       "        vertical-align: top;\n",
       "    }\n",
       "\n",
       "    .dataframe thead th {\n",
       "        text-align: right;\n",
       "    }\n",
       "</style>\n",
       "<table border=\"1\" class=\"dataframe\">\n",
       "  <thead>\n",
       "    <tr style=\"text-align: right;\">\n",
       "      <th></th>\n",
       "      <th>A정당</th>\n",
       "      <th>B정당</th>\n",
       "      <th>C정당</th>\n",
       "    </tr>\n",
       "  </thead>\n",
       "  <tbody>\n",
       "    <tr>\n",
       "      <th>20대</th>\n",
       "      <td>45</td>\n",
       "      <td>90</td>\n",
       "      <td>95</td>\n",
       "    </tr>\n",
       "    <tr>\n",
       "      <th>30대</th>\n",
       "      <td>50</td>\n",
       "      <td>120</td>\n",
       "      <td>100</td>\n",
       "    </tr>\n",
       "    <tr>\n",
       "      <th>40대</th>\n",
       "      <td>50</td>\n",
       "      <td>120</td>\n",
       "      <td>70</td>\n",
       "    </tr>\n",
       "    <tr>\n",
       "      <th>50대 이상</th>\n",
       "      <td>140</td>\n",
       "      <td>50</td>\n",
       "      <td>70</td>\n",
       "    </tr>\n",
       "  </tbody>\n",
       "</table>\n",
       "</div>"
      ],
      "text/plain": [
       "        A정당  B정당  C정당\n",
       "20대      45   90   95\n",
       "30대      50  120  100\n",
       "40대      50  120   70\n",
       "50대 이상  140   50   70"
      ]
     },
     "execution_count": 165,
     "metadata": {},
     "output_type": "execute_result"
    }
   ],
   "source": [
    "crosstab = pd.DataFrame([[45, 90, 95], [50, 120, 100], [50, 120, 70], [140, 50, 70]], \\\n",
    "                        index=['20대', '30대', '40대', '50대 이상'], columns=['A정당', 'B정당', 'C정당'])\n",
    "crosstab"
   ]
  },
  {
   "cell_type": "code",
   "execution_count": 166,
   "metadata": {},
   "outputs": [],
   "source": [
    "# 가설을 세운다\n",
    "# H0 : 두 변수는 관계사 없다. (연관 계수 = 0)  \n",
    "# H1 : 두 변수는 관계가 있다. (연관 계수 <>0, 양측 검정)\n",
    "\n",
    "# 독립성 검정 통계량 chi^2를 구한다\n",
    "# chi^2 = sum((관측도수-기대도수)^2/기대도수)\n",
    "\n",
    "# 표(교차 집계표)에 연령대 합계와 정당 합계를 추가한다\n",
    "crosstab['연령대 합계'] = crosstab.sum(axis=1)\n",
    "crosstab.loc['정당 합계'] = crosstab.sum(axis=0)"
   ]
  },
  {
   "cell_type": "code",
   "execution_count": 167,
   "metadata": {},
   "outputs": [
    {
     "data": {
      "text/html": [
       "<div>\n",
       "<style scoped>\n",
       "    .dataframe tbody tr th:only-of-type {\n",
       "        vertical-align: middle;\n",
       "    }\n",
       "\n",
       "    .dataframe tbody tr th {\n",
       "        vertical-align: top;\n",
       "    }\n",
       "\n",
       "    .dataframe thead th {\n",
       "        text-align: right;\n",
       "    }\n",
       "</style>\n",
       "<table border=\"1\" class=\"dataframe\">\n",
       "  <thead>\n",
       "    <tr style=\"text-align: right;\">\n",
       "      <th></th>\n",
       "      <th>A정당</th>\n",
       "      <th>B정당</th>\n",
       "      <th>C정당</th>\n",
       "      <th>연령대 합계</th>\n",
       "    </tr>\n",
       "  </thead>\n",
       "  <tbody>\n",
       "    <tr>\n",
       "      <th>20대</th>\n",
       "      <td>45</td>\n",
       "      <td>90</td>\n",
       "      <td>95</td>\n",
       "      <td>230</td>\n",
       "    </tr>\n",
       "    <tr>\n",
       "      <th>30대</th>\n",
       "      <td>50</td>\n",
       "      <td>120</td>\n",
       "      <td>100</td>\n",
       "      <td>270</td>\n",
       "    </tr>\n",
       "    <tr>\n",
       "      <th>40대</th>\n",
       "      <td>50</td>\n",
       "      <td>120</td>\n",
       "      <td>70</td>\n",
       "      <td>240</td>\n",
       "    </tr>\n",
       "    <tr>\n",
       "      <th>50대 이상</th>\n",
       "      <td>140</td>\n",
       "      <td>50</td>\n",
       "      <td>70</td>\n",
       "      <td>260</td>\n",
       "    </tr>\n",
       "    <tr>\n",
       "      <th>정당 합계</th>\n",
       "      <td>285</td>\n",
       "      <td>380</td>\n",
       "      <td>335</td>\n",
       "      <td>1000</td>\n",
       "    </tr>\n",
       "  </tbody>\n",
       "</table>\n",
       "</div>"
      ],
      "text/plain": [
       "        A정당  B정당  C정당  연령대 합계\n",
       "20대      45   90   95     230\n",
       "30대      50  120  100     270\n",
       "40대      50  120   70     240\n",
       "50대 이상  140   50   70     260\n",
       "정당 합계   285  380  335    1000"
      ]
     },
     "execution_count": 167,
     "metadata": {},
     "output_type": "execute_result"
    }
   ],
   "source": [
    "crosstab"
   ]
  },
  {
   "cell_type": "code",
   "execution_count": 168,
   "metadata": {},
   "outputs": [
    {
     "data": {
      "text/html": [
       "<div>\n",
       "<style scoped>\n",
       "    .dataframe tbody tr th:only-of-type {\n",
       "        vertical-align: middle;\n",
       "    }\n",
       "\n",
       "    .dataframe tbody tr th {\n",
       "        vertical-align: top;\n",
       "    }\n",
       "\n",
       "    .dataframe thead th {\n",
       "        text-align: right;\n",
       "    }\n",
       "</style>\n",
       "<table border=\"1\" class=\"dataframe\">\n",
       "  <thead>\n",
       "    <tr style=\"text-align: right;\">\n",
       "      <th></th>\n",
       "      <th>A정당</th>\n",
       "      <th>B정당</th>\n",
       "      <th>C정당</th>\n",
       "      <th>연령대 합계</th>\n",
       "    </tr>\n",
       "  </thead>\n",
       "  <tbody>\n",
       "    <tr>\n",
       "      <th>20대</th>\n",
       "      <td>65.55</td>\n",
       "      <td>87.4</td>\n",
       "      <td>77.05</td>\n",
       "      <td>230.0</td>\n",
       "    </tr>\n",
       "    <tr>\n",
       "      <th>30대</th>\n",
       "      <td>76.95</td>\n",
       "      <td>102.6</td>\n",
       "      <td>90.45</td>\n",
       "      <td>270.0</td>\n",
       "    </tr>\n",
       "    <tr>\n",
       "      <th>40대</th>\n",
       "      <td>68.40</td>\n",
       "      <td>91.2</td>\n",
       "      <td>80.40</td>\n",
       "      <td>240.0</td>\n",
       "    </tr>\n",
       "    <tr>\n",
       "      <th>50대 이상</th>\n",
       "      <td>74.10</td>\n",
       "      <td>98.8</td>\n",
       "      <td>87.10</td>\n",
       "      <td>260.0</td>\n",
       "    </tr>\n",
       "    <tr>\n",
       "      <th>정당 합계</th>\n",
       "      <td>285.00</td>\n",
       "      <td>380.0</td>\n",
       "      <td>335.00</td>\n",
       "      <td>1000.0</td>\n",
       "    </tr>\n",
       "  </tbody>\n",
       "</table>\n",
       "</div>"
      ],
      "text/plain": [
       "           A정당    B정당     C정당  연령대 합계\n",
       "20대      65.55   87.4   77.05   230.0\n",
       "30대      76.95  102.6   90.45   270.0\n",
       "40대      68.40   91.2   80.40   240.0\n",
       "50대 이상   74.10   98.8   87.10   260.0\n",
       "정당 합계   285.00  380.0  335.00  1000.0"
      ]
     },
     "execution_count": 168,
     "metadata": {},
     "output_type": "execute_result"
    }
   ],
   "source": [
    "# 기대도수를 계산한다\n",
    "exp_tab = crosstab # 복사\n",
    "exp_tab = exp_tab.astype('float') # 데이터 타입 변경\n",
    "\n",
    "def calcExpFreq(crosstab, exp_tab):\n",
    "    idx_col_sum = crosstab.shape[1] - 1\n",
    "    idx_row_sum = crosstab.shape[0] - 1\n",
    "    for irow in range(0, idx_row_sum):\n",
    "        for icol in range(0, idx_col_sum):\n",
    "            exp_tab.iat[irow, icol] = crosstab.iat[irow, idx_col_sum] * crosstab.iat[idx_row_sum, icol] \\\n",
    "                                        / crosstab.iat[idx_row_sum, idx_col_sum]\n",
    "\n",
    "calcExpFreq(crosstab, exp_tab)\n",
    "\n",
    "exp_tab"
   ]
  },
  {
   "cell_type": "code",
   "execution_count": 169,
   "metadata": {},
   "outputs": [
    {
     "data": {
      "text/html": [
       "<div>\n",
       "<style scoped>\n",
       "    .dataframe tbody tr th:only-of-type {\n",
       "        vertical-align: middle;\n",
       "    }\n",
       "\n",
       "    .dataframe tbody tr th {\n",
       "        vertical-align: top;\n",
       "    }\n",
       "\n",
       "    .dataframe thead th {\n",
       "        text-align: right;\n",
       "    }\n",
       "</style>\n",
       "<table border=\"1\" class=\"dataframe\">\n",
       "  <thead>\n",
       "    <tr style=\"text-align: right;\">\n",
       "      <th></th>\n",
       "      <th>A정당</th>\n",
       "      <th>B정당</th>\n",
       "      <th>C정당</th>\n",
       "      <th>연령대 합계</th>\n",
       "    </tr>\n",
       "  </thead>\n",
       "  <tbody>\n",
       "    <tr>\n",
       "      <th>20대</th>\n",
       "      <td>6.442449</td>\n",
       "      <td>0.077346</td>\n",
       "      <td>4.181733</td>\n",
       "      <td>10.701527</td>\n",
       "    </tr>\n",
       "    <tr>\n",
       "      <th>30대</th>\n",
       "      <td>9.438629</td>\n",
       "      <td>2.950877</td>\n",
       "      <td>1.008320</td>\n",
       "      <td>13.397826</td>\n",
       "    </tr>\n",
       "    <tr>\n",
       "      <th>40대</th>\n",
       "      <td>4.949708</td>\n",
       "      <td>9.094737</td>\n",
       "      <td>1.345274</td>\n",
       "      <td>15.389718</td>\n",
       "    </tr>\n",
       "    <tr>\n",
       "      <th>50대 이상</th>\n",
       "      <td>58.607422</td>\n",
       "      <td>24.103644</td>\n",
       "      <td>3.357176</td>\n",
       "      <td>86.068242</td>\n",
       "    </tr>\n",
       "    <tr>\n",
       "      <th>정당 합계</th>\n",
       "      <td>79.438207</td>\n",
       "      <td>36.226603</td>\n",
       "      <td>9.892501</td>\n",
       "      <td>125.557312</td>\n",
       "    </tr>\n",
       "  </tbody>\n",
       "</table>\n",
       "</div>"
      ],
      "text/plain": [
       "              A정당        B정당       C정당      연령대 합계\n",
       "20대      6.442449   0.077346  4.181733   10.701527\n",
       "30대      9.438629   2.950877  1.008320   13.397826\n",
       "40대      4.949708   9.094737  1.345274   15.389718\n",
       "50대 이상  58.607422  24.103644  3.357176   86.068242\n",
       "정당 합계   79.438207  36.226603  9.892501  125.557312"
      ]
     },
     "execution_count": 169,
     "metadata": {},
     "output_type": "execute_result"
    }
   ],
   "source": [
    "# chi^2를 계산한다\n",
    "# chi^2 = (관측도수-기대도수)^2/기대도수\n",
    "chisq_tab = exp_tab # 복사\n",
    "\n",
    "idx_col_sum = crosstab.shape[1] - 1\n",
    "idx_row_sum = crosstab.shape[0] - 1\n",
    "def calcChiSq(crosstab, exp_tab, chisq_tab):\n",
    "    for irow in range(0, idx_row_sum):\n",
    "        for icol in range(0, idx_col_sum):\n",
    "            chisq_tab.iat[irow, icol] = (crosstab.iat[irow, icol] - exp_tab.iat[irow, icol])**2 \\\n",
    "                                        / exp_tab.iat[irow, icol]\n",
    "\n",
    "calcChiSq(crosstab, exp_tab, chisq_tab)\n",
    "\n",
    "# 표(교차 집계표)에 연령대 합계와 정당 합계를 다시 계산한다\n",
    "chisq_tab['연령대 합계'] = chisq_tab[['A정당', 'B정당', 'C정당']].sum(axis=1)\n",
    "chisq_tab.loc['정당 합계'] = chisq_tab.iloc[0:idx_row_sum,:].sum(axis=0)\n",
    "\n",
    "chisq_tab"
   ]
  },
  {
   "cell_type": "code",
   "execution_count": 170,
   "metadata": {},
   "outputs": [
    {
     "data": {
      "text/plain": [
       "14.44937533544792"
      ]
     },
     "execution_count": 170,
     "metadata": {},
     "output_type": "execute_result"
    }
   ],
   "source": [
    "chisq_0 = chisq_tab.iat[idx_row_sum, idx_col_sum]\n",
    "\n",
    "# 확률변수(Random Variable)과 임계치를 구한다\n",
    "rv_chi2 = stats.chi2(6) # 카이제곱분포의 자유도 = (행-1)*(열-1)\n",
    "chisq_c = rv_chi2.ppf(1-alpha/2) # chi2.ppf (percent point function) : 분포의 좌측 누적 확률을 인자로 하여 임계치(기각역)를 구한다\n",
    "\n",
    "chisq_c"
   ]
  },
  {
   "cell_type": "code",
   "execution_count": 171,
   "metadata": {},
   "outputs": [
    {
     "name": "stdout",
     "output_type": "stream",
     "text": [
      "chisq_c: 14.45  <=  chisq_0: 125.56 [H0 Rejected]\n"
     ]
    }
   ],
   "source": [
    "# chisq_0가 기각역에 포함되면 H0를 기각한다\n",
    "# 그렇지 않으면 H0를 채택한다 (H0가 틀렸다고는 할 수 없다)\n",
    "if (chisq_c <= chisq_0):\n",
    "    print('chisq_c:', round(chisq_c,2), ' <= ', 'chisq_0:', round(chisq_0,2), '[H0 Rejected]')\n",
    "else:\n",
    "    print('chisq_c:', round(chisq_c,2), ' > ', 'chisq_0:', round(chisq_0,2), '[H0 Accepted]')"
   ]
  },
  {
   "cell_type": "code",
   "execution_count": 172,
   "metadata": {},
   "outputs": [
    {
     "data": {
      "text/plain": [
       "0.25"
      ]
     },
     "execution_count": 172,
     "metadata": {},
     "output_type": "execute_result"
    }
   ],
   "source": [
    "# 결론 : 두 변수는 관계가 있다.\n",
    "\n",
    "# 연관 계수를 구해 보자\n",
    "# 연관 계수 V = sqrt(chisq_0^2 / N*min(행-1,열-1))\n",
    "round(np.sqrt(chisq_0 / (1000*2)),2)"
   ]
  },
  {
   "cell_type": "code",
   "execution_count": 173,
   "metadata": {},
   "outputs": [],
   "source": [
    "# 독립성 검정 결과는 '두 변수가 관계가 있다'로 나왔는데 .. \n",
    "# 연관 계수는 0.25로 '다소 약하게 관련되어 있다'로 나타나서\n",
    "# 좀 의아한 생각이 든다 ..\n",
    "# 아래에 다른 예제를 살펴 본다"
   ]
  },
  {
   "cell_type": "code",
   "execution_count": null,
   "metadata": {},
   "outputs": [],
   "source": []
  },
  {
   "cell_type": "markdown",
   "metadata": {},
   "source": [
    "### [예제 3] 연령대별 야행 선호지\n",
    "100명을 샘플 조사하여 연령대별 여행 선호지에 대하여 다음의 표를 만들었다.  \n",
    "두 변수(연령대와 여행 선호지)가 관계가 있는지 독립성 검정을 하시오."
   ]
  },
  {
   "cell_type": "code",
   "execution_count": 174,
   "metadata": {},
   "outputs": [
    {
     "data": {
      "text/html": [
       "<div>\n",
       "<style scoped>\n",
       "    .dataframe tbody tr th:only-of-type {\n",
       "        vertical-align: middle;\n",
       "    }\n",
       "\n",
       "    .dataframe tbody tr th {\n",
       "        vertical-align: top;\n",
       "    }\n",
       "\n",
       "    .dataframe thead th {\n",
       "        text-align: right;\n",
       "    }\n",
       "</style>\n",
       "<table border=\"1\" class=\"dataframe\">\n",
       "  <thead>\n",
       "    <tr style=\"text-align: right;\">\n",
       "      <th></th>\n",
       "      <th>북미</th>\n",
       "      <th>유럽</th>\n",
       "      <th>아시아</th>\n",
       "    </tr>\n",
       "  </thead>\n",
       "  <tbody>\n",
       "    <tr>\n",
       "      <th>20대</th>\n",
       "      <td>9</td>\n",
       "      <td>5</td>\n",
       "      <td>6</td>\n",
       "    </tr>\n",
       "    <tr>\n",
       "      <th>30대</th>\n",
       "      <td>14</td>\n",
       "      <td>11</td>\n",
       "      <td>5</td>\n",
       "    </tr>\n",
       "    <tr>\n",
       "      <th>40대</th>\n",
       "      <td>10</td>\n",
       "      <td>13</td>\n",
       "      <td>7</td>\n",
       "    </tr>\n",
       "    <tr>\n",
       "      <th>50대 이상</th>\n",
       "      <td>5</td>\n",
       "      <td>6</td>\n",
       "      <td>9</td>\n",
       "    </tr>\n",
       "  </tbody>\n",
       "</table>\n",
       "</div>"
      ],
      "text/plain": [
       "        북미  유럽  아시아\n",
       "20대      9   5    6\n",
       "30대     14  11    5\n",
       "40대     10  13    7\n",
       "50대 이상   5   6    9"
      ]
     },
     "execution_count": 174,
     "metadata": {},
     "output_type": "execute_result"
    }
   ],
   "source": [
    "crosstab = pd.DataFrame([[9, 5, 6], [14, 11, 5], [10, 13, 7], [5, 6, 9]], \\\n",
    "                        index=['20대', '30대', '40대', '50대 이상'], columns=['북미', '유럽', '아시아'])\n",
    "crosstab"
   ]
  },
  {
   "cell_type": "code",
   "execution_count": 175,
   "metadata": {},
   "outputs": [],
   "source": [
    "# 가설을 세운다\n",
    "# H0 : 두 변수는 관계사 없다. (연관 계수 = 0)  \n",
    "# H1 : 두 변수는 관계가 있다. (연관 계수 <>0, 양측 검정)\n",
    "\n",
    "# 독립성 검정 통계량 chi^2를 구한다\n",
    "# chi^2 = sum((관측도수-기대도수)^2/기대도수)\n",
    "\n",
    "# 표(교차 집계표)에 연령대 합계와 정당 합계를 추가한다\n",
    "crosstab['연령대 합계'] = crosstab.sum(axis=1)\n",
    "crosstab.loc['여행지 합계'] = crosstab.sum(axis=0)"
   ]
  },
  {
   "cell_type": "code",
   "execution_count": 176,
   "metadata": {},
   "outputs": [
    {
     "data": {
      "text/html": [
       "<div>\n",
       "<style scoped>\n",
       "    .dataframe tbody tr th:only-of-type {\n",
       "        vertical-align: middle;\n",
       "    }\n",
       "\n",
       "    .dataframe tbody tr th {\n",
       "        vertical-align: top;\n",
       "    }\n",
       "\n",
       "    .dataframe thead th {\n",
       "        text-align: right;\n",
       "    }\n",
       "</style>\n",
       "<table border=\"1\" class=\"dataframe\">\n",
       "  <thead>\n",
       "    <tr style=\"text-align: right;\">\n",
       "      <th></th>\n",
       "      <th>북미</th>\n",
       "      <th>유럽</th>\n",
       "      <th>아시아</th>\n",
       "      <th>연령대 합계</th>\n",
       "    </tr>\n",
       "  </thead>\n",
       "  <tbody>\n",
       "    <tr>\n",
       "      <th>20대</th>\n",
       "      <td>9</td>\n",
       "      <td>5</td>\n",
       "      <td>6</td>\n",
       "      <td>20</td>\n",
       "    </tr>\n",
       "    <tr>\n",
       "      <th>30대</th>\n",
       "      <td>14</td>\n",
       "      <td>11</td>\n",
       "      <td>5</td>\n",
       "      <td>30</td>\n",
       "    </tr>\n",
       "    <tr>\n",
       "      <th>40대</th>\n",
       "      <td>10</td>\n",
       "      <td>13</td>\n",
       "      <td>7</td>\n",
       "      <td>30</td>\n",
       "    </tr>\n",
       "    <tr>\n",
       "      <th>50대 이상</th>\n",
       "      <td>5</td>\n",
       "      <td>6</td>\n",
       "      <td>9</td>\n",
       "      <td>20</td>\n",
       "    </tr>\n",
       "    <tr>\n",
       "      <th>여행지 합계</th>\n",
       "      <td>38</td>\n",
       "      <td>35</td>\n",
       "      <td>27</td>\n",
       "      <td>100</td>\n",
       "    </tr>\n",
       "  </tbody>\n",
       "</table>\n",
       "</div>"
      ],
      "text/plain": [
       "        북미  유럽  아시아  연령대 합계\n",
       "20대      9   5    6      20\n",
       "30대     14  11    5      30\n",
       "40대     10  13    7      30\n",
       "50대 이상   5   6    9      20\n",
       "여행지 합계  38  35   27     100"
      ]
     },
     "execution_count": 176,
     "metadata": {},
     "output_type": "execute_result"
    }
   ],
   "source": [
    "crosstab"
   ]
  },
  {
   "cell_type": "code",
   "execution_count": 177,
   "metadata": {},
   "outputs": [
    {
     "data": {
      "text/html": [
       "<div>\n",
       "<style scoped>\n",
       "    .dataframe tbody tr th:only-of-type {\n",
       "        vertical-align: middle;\n",
       "    }\n",
       "\n",
       "    .dataframe tbody tr th {\n",
       "        vertical-align: top;\n",
       "    }\n",
       "\n",
       "    .dataframe thead th {\n",
       "        text-align: right;\n",
       "    }\n",
       "</style>\n",
       "<table border=\"1\" class=\"dataframe\">\n",
       "  <thead>\n",
       "    <tr style=\"text-align: right;\">\n",
       "      <th></th>\n",
       "      <th>북미</th>\n",
       "      <th>유럽</th>\n",
       "      <th>아시아</th>\n",
       "      <th>연령대 합계</th>\n",
       "    </tr>\n",
       "  </thead>\n",
       "  <tbody>\n",
       "    <tr>\n",
       "      <th>20대</th>\n",
       "      <td>7.6</td>\n",
       "      <td>7.0</td>\n",
       "      <td>5.4</td>\n",
       "      <td>20.0</td>\n",
       "    </tr>\n",
       "    <tr>\n",
       "      <th>30대</th>\n",
       "      <td>11.4</td>\n",
       "      <td>10.5</td>\n",
       "      <td>8.1</td>\n",
       "      <td>30.0</td>\n",
       "    </tr>\n",
       "    <tr>\n",
       "      <th>40대</th>\n",
       "      <td>11.4</td>\n",
       "      <td>10.5</td>\n",
       "      <td>8.1</td>\n",
       "      <td>30.0</td>\n",
       "    </tr>\n",
       "    <tr>\n",
       "      <th>50대 이상</th>\n",
       "      <td>7.6</td>\n",
       "      <td>7.0</td>\n",
       "      <td>5.4</td>\n",
       "      <td>20.0</td>\n",
       "    </tr>\n",
       "    <tr>\n",
       "      <th>여행지 합계</th>\n",
       "      <td>38.0</td>\n",
       "      <td>35.0</td>\n",
       "      <td>27.0</td>\n",
       "      <td>100.0</td>\n",
       "    </tr>\n",
       "  </tbody>\n",
       "</table>\n",
       "</div>"
      ],
      "text/plain": [
       "          북미    유럽   아시아  연령대 합계\n",
       "20대      7.6   7.0   5.4    20.0\n",
       "30대     11.4  10.5   8.1    30.0\n",
       "40대     11.4  10.5   8.1    30.0\n",
       "50대 이상   7.6   7.0   5.4    20.0\n",
       "여행지 합계  38.0  35.0  27.0   100.0"
      ]
     },
     "execution_count": 177,
     "metadata": {},
     "output_type": "execute_result"
    }
   ],
   "source": [
    "# 기대도수를 계산한다\n",
    "exp_tab = crosstab # 복사\n",
    "exp_tab = exp_tab.astype('float') # 데이터 타입 변경\n",
    "\n",
    "def calcExpFreq(crosstab, exp_tab):\n",
    "    idx_col_sum = crosstab.shape[1] - 1\n",
    "    idx_row_sum = crosstab.shape[0] - 1\n",
    "    for irow in range(0, idx_row_sum):\n",
    "        for icol in range(0, idx_col_sum):\n",
    "            exp_tab.iat[irow, icol] = crosstab.iat[irow, idx_col_sum] * crosstab.iat[idx_row_sum, icol] \\\n",
    "                                        / crosstab.iat[idx_row_sum, idx_col_sum]\n",
    "\n",
    "calcExpFreq(crosstab, exp_tab)\n",
    "\n",
    "exp_tab"
   ]
  },
  {
   "cell_type": "code",
   "execution_count": 178,
   "metadata": {},
   "outputs": [
    {
     "data": {
      "text/html": [
       "<div>\n",
       "<style scoped>\n",
       "    .dataframe tbody tr th:only-of-type {\n",
       "        vertical-align: middle;\n",
       "    }\n",
       "\n",
       "    .dataframe tbody tr th {\n",
       "        vertical-align: top;\n",
       "    }\n",
       "\n",
       "    .dataframe thead th {\n",
       "        text-align: right;\n",
       "    }\n",
       "</style>\n",
       "<table border=\"1\" class=\"dataframe\">\n",
       "  <thead>\n",
       "    <tr style=\"text-align: right;\">\n",
       "      <th></th>\n",
       "      <th>북미</th>\n",
       "      <th>유럽</th>\n",
       "      <th>아시아</th>\n",
       "      <th>연령대 합계</th>\n",
       "    </tr>\n",
       "  </thead>\n",
       "  <tbody>\n",
       "    <tr>\n",
       "      <th>20대</th>\n",
       "      <td>0.257895</td>\n",
       "      <td>0.571429</td>\n",
       "      <td>0.066667</td>\n",
       "      <td>0.895990</td>\n",
       "    </tr>\n",
       "    <tr>\n",
       "      <th>30대</th>\n",
       "      <td>0.592982</td>\n",
       "      <td>0.023810</td>\n",
       "      <td>1.186420</td>\n",
       "      <td>1.803212</td>\n",
       "    </tr>\n",
       "    <tr>\n",
       "      <th>40대</th>\n",
       "      <td>0.171930</td>\n",
       "      <td>0.595238</td>\n",
       "      <td>0.149383</td>\n",
       "      <td>0.916551</td>\n",
       "    </tr>\n",
       "    <tr>\n",
       "      <th>50대 이상</th>\n",
       "      <td>0.889474</td>\n",
       "      <td>0.142857</td>\n",
       "      <td>2.400000</td>\n",
       "      <td>3.432331</td>\n",
       "    </tr>\n",
       "    <tr>\n",
       "      <th>여행지 합계</th>\n",
       "      <td>1.912281</td>\n",
       "      <td>1.333333</td>\n",
       "      <td>3.802469</td>\n",
       "      <td>7.048083</td>\n",
       "    </tr>\n",
       "  </tbody>\n",
       "</table>\n",
       "</div>"
      ],
      "text/plain": [
       "              북미        유럽       아시아    연령대 합계\n",
       "20대     0.257895  0.571429  0.066667  0.895990\n",
       "30대     0.592982  0.023810  1.186420  1.803212\n",
       "40대     0.171930  0.595238  0.149383  0.916551\n",
       "50대 이상  0.889474  0.142857  2.400000  3.432331\n",
       "여행지 합계  1.912281  1.333333  3.802469  7.048083"
      ]
     },
     "execution_count": 178,
     "metadata": {},
     "output_type": "execute_result"
    }
   ],
   "source": [
    "# chi^2를 계산한다\n",
    "# chi^2 = (관측도수-기대도수)^2/기대도수\n",
    "chisq_tab = exp_tab # 복사\n",
    "\n",
    "idx_col_sum = crosstab.shape[1] - 1\n",
    "idx_row_sum = crosstab.shape[0] - 1\n",
    "def calcChiSq(crosstab, exp_tab, chisq_tab):\n",
    "    for irow in range(0, idx_row_sum):\n",
    "        for icol in range(0, idx_col_sum):\n",
    "            chisq_tab.iat[irow, icol] = (crosstab.iat[irow, icol] - exp_tab.iat[irow, icol])**2 \\\n",
    "                                        / exp_tab.iat[irow, icol]\n",
    "\n",
    "calcChiSq(crosstab, exp_tab, chisq_tab)\n",
    "\n",
    "# 표(교차 집계표)에 연령대 합계와 정당 합계를 다시 계산한다\n",
    "chisq_tab['연령대 합계'] = chisq_tab[['북미', '유럽', '아시아']].sum(axis=1)\n",
    "chisq_tab.loc['여행지 합계'] = chisq_tab.iloc[0:idx_row_sum,:].sum(axis=0)\n",
    "\n",
    "chisq_tab"
   ]
  },
  {
   "cell_type": "code",
   "execution_count": 179,
   "metadata": {},
   "outputs": [
    {
     "data": {
      "text/plain": [
       "14.44937533544792"
      ]
     },
     "execution_count": 179,
     "metadata": {},
     "output_type": "execute_result"
    }
   ],
   "source": [
    "chisq_0 = chisq_tab.iat[idx_row_sum, idx_col_sum]\n",
    "\n",
    "# 확률변수(Random Variable)과 임계치를 구한다\n",
    "rv_chi2 = stats.chi2(6) # 카이제곱분포의 자유도 = (행-1)*(열-1)\n",
    "chisq_c = rv_chi2.ppf(1-alpha/2) # chi2.ppf (percent point function) : 분포의 좌측 누적 확률을 인자로 하여 임계치(기각역)를 구한다\n",
    "\n",
    "chisq_c"
   ]
  },
  {
   "cell_type": "code",
   "execution_count": 180,
   "metadata": {},
   "outputs": [
    {
     "name": "stdout",
     "output_type": "stream",
     "text": [
      "chisq_c: 14.45  >  chisq_0: 7.05 [H0 Accepted]\n"
     ]
    }
   ],
   "source": [
    "# chisq_0가 기각역에 포함되면 H0를 기각한다\n",
    "# 그렇지 않으면 H0를 채택한다 (H0가 틀렸다고는 할 수 없다)\n",
    "if (chisq_c <= chisq_0):\n",
    "    print('chisq_c:', round(chisq_c,2), ' <= ', 'chisq_0:', round(chisq_0,2), '[H0 Rejected]')\n",
    "else:\n",
    "    print('chisq_c:', round(chisq_c,2), ' > ', 'chisq_0:', round(chisq_0,2), '[H0 Accepted]')"
   ]
  },
  {
   "cell_type": "code",
   "execution_count": 181,
   "metadata": {},
   "outputs": [
    {
     "data": {
      "text/plain": [
       "0.19"
      ]
     },
     "execution_count": 181,
     "metadata": {},
     "output_type": "execute_result"
    }
   ],
   "source": [
    "# 결론 : 두 변수는 관계가 없다.\n",
    "\n",
    "# 연관 계수를 구해 보자\n",
    "# 연관 계수 V = sqrt(chisq_0^2 / N*min(행-1,열-1))\n",
    "round(np.sqrt(chisq_0 / (100*2)),2)"
   ]
  },
  {
   "cell_type": "code",
   "execution_count": 182,
   "metadata": {},
   "outputs": [],
   "source": [
    "# 이 예제에서는 독립성 검정 결과도 '두 변수가 관계가 없다'로 나오고\n",
    "# 연관 계수도 0.19로 '매우 약하게 관련되어 있다(즉 관련이 없다)'로 나타나서\n",
    "# 두 가지가 일치하고 있다"
   ]
  },
  {
   "cell_type": "code",
   "execution_count": null,
   "metadata": {},
   "outputs": [],
   "source": []
  }
 ],
 "metadata": {
  "kernelspec": {
   "display_name": "Python 3",
   "language": "python",
   "name": "python3"
  },
  "language_info": {
   "codemirror_mode": {
    "name": "ipython",
    "version": 3
   },
   "file_extension": ".py",
   "mimetype": "text/x-python",
   "name": "python",
   "nbconvert_exporter": "python",
   "pygments_lexer": "ipython3",
   "version": "3.7.7"
  }
 },
 "nbformat": 4,
 "nbformat_minor": 4
}
