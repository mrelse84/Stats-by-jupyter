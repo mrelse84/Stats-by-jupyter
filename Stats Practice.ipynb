{
 "cells": [
  {
   "cell_type": "markdown",
   "metadata": {},
   "source": [
    "# Stats Practice"
   ]
  },
  {
   "cell_type": "code",
   "execution_count": 1,
   "metadata": {},
   "outputs": [],
   "source": [
    "import numpy as np\n",
    "import pandas as pd\n",
    "import scipy as sp\n",
    "import scipy.stats as stats\n",
    "import sklearn as sk\n",
    "import matplotlib.pyplot as plt"
   ]
  },
  {
   "cell_type": "code",
   "execution_count": 2,
   "metadata": {},
   "outputs": [
    {
     "name": "stdout",
     "output_type": "stream",
     "text": [
      "3.7.7 (tags/v3.7.7:d7c567b08f, Mar 10 2020, 10:41:24) [MSC v.1900 64 bit (AMD64)]\n"
     ]
    }
   ],
   "source": [
    "import sys\n",
    "print(sys.version)"
   ]
  },
  {
   "cell_type": "markdown",
   "metadata": {},
   "source": [
    "### [예제 1] 지지율 여론 조사\n",
    "선거 후보에 대해 지지율 조사를 하였다.  \n",
    "조사 샘플 수는 1,000명이었고, A 후보 507명, B 후보 298명, 기타 195명이었다.  \n",
    "두 후보의 지지율에 대해 95% 신뢰 구간을 추정하시오."
   ]
  },
  {
   "cell_type": "markdown",
   "metadata": {},
   "source": [
    "[용어]\n",
    "* 유의수준 : $\\alpha$\n",
    "* 신뢰수준 : $(1-\\alpha)100\\%$\n",
    "* 표준편차 : $\\sigma$\n",
    "* 표준오차 : $\\sigma\\sqrt{n}$\n",
    "* 표본오차 (허용오차, 오차범위) : $z*\\sigma\\sqrt{n}$"
   ]
  },
  {
   "cell_type": "code",
   "execution_count": 8,
   "metadata": {},
   "outputs": [
    {
     "name": "stdout",
     "output_type": "stream",
     "text": [
      "0.48  <= p_hat_A <=  0.54 [ 51.0 +/- 3.0 ]\n",
      "0.27  <= p_hat_B <=  0.33 [ 30.0 +/- 3.0 ]\n"
     ]
    }
   ],
   "source": [
    "# 유의수준\n",
    "alpha = 0.05 \n",
    "\n",
    "# 한 모집단에서 여러 개의 모비율을 추정할 때, 동일한 최대허용 표본오차를 적용한다. (표본오차는 p_hat이 0.5일 때 최대가 된다.)\n",
    "n_A = 507\n",
    "n_B = 298\n",
    "n_X = 195\n",
    "n_Tot = n_A + n_B + n_X\n",
    "\n",
    "# 표본비율 (Sampling Ratio) : p_hat = x/n\n",
    "p_hat_A = n_A / n_Tot \n",
    "p_hat_B = n_B / n_Tot\n",
    "\n",
    "# 확률변수(Random Variable)과 z값 (z-value, z-score)\n",
    "rv_norm = stats.norm(0,1) # 표준 정규분포(Z=norm(0,1)) 사용\n",
    "z_val = rv_norm.ppf(1-alpha/2)\n",
    "err_max = z_val*np.sqrt(0.5*0.5/n_Tot)\n",
    "\n",
    "p_hat_A_l = p_hat_A - err_max\n",
    "p_hat_A_r = p_hat_A + err_max\n",
    "print(round(p_hat_A_l,2), ' <= p_hat_A <= ', round(p_hat_A_r,2), '[', round(p_hat_A*100,0), '+/-', round(err_max*100,0), ']')\n",
    "\n",
    "p_hat_B_l = p_hat_B - err_max\n",
    "p_hat_B_r = p_hat_B + err_max\n",
    "print(round(p_hat_B_l,2), ' <= p_hat_B <= ', round(p_hat_B_r,2), '[', round(p_hat_B*100,0), '+/-', round(err_max*100,0), ']')"
   ]
  },
  {
   "cell_type": "code",
   "execution_count": null,
   "metadata": {},
   "outputs": [],
   "source": []
  }
 ],
 "metadata": {
  "kernelspec": {
   "display_name": "Python 3",
   "language": "python",
   "name": "python3"
  },
  "language_info": {
   "codemirror_mode": {
    "name": "ipython",
    "version": 3
   },
   "file_extension": ".py",
   "mimetype": "text/x-python",
   "name": "python",
   "nbconvert_exporter": "python",
   "pygments_lexer": "ipython3",
   "version": "3.7.7"
  }
 },
 "nbformat": 4,
 "nbformat_minor": 4
}
